{
  "nbformat": 4,
  "nbformat_minor": 0,
  "metadata": {
    "colab": {
      "name": "Analyzing Twitter US Airline Sentiment.ipynb",
      "provenance": [],
      "collapsed_sections": [],
      "toc_visible": true
    },
    "kernelspec": {
      "name": "python3",
      "display_name": "Python 3"
    }
  },
  "cells": [
    {
      "cell_type": "markdown",
      "metadata": {
        "id": "75HAtM_Cx0l3"
      },
      "source": [
        "# Analyzing Twitter US Airline Sentiment\n",
        "\n",
        "In this notebook, I'll be building a model (inspired by Bert Carremans' [here](https://towardsdatascience.com/handling-overfitting-in-deep-learning-models-c760ee047c6e#:~:text=Overfitting%20occurs%20when%20you%20achieve,are%20irrelevant%20in%20other%20data.&text=The%20best%20option%20is%20to%20get%20more%20training%20data)) to do some sentiment analysis. The dataset I'll be using is Kaggle's [Twitter US Airline Sentiment dataset](https://www.kaggle.com/crowdflower/twitter-airline-sentiment). According to Kaggle, this was a sentiment analysis job about the problems of each major U.S. airline. Twitter data was scraped from February of 2015 and contributors were asked to first classify positive, negative, and neutral tweets, followed by categorizing negative reasons (such as \"late flight\" or \"rude service\").\n",
        "\n",
        "I will also discuss overfitting as a problem within ML models and how regularization techniques can be used to combat this.\n",
        "\n",
        "\n"
      ]
    },
    {
      "cell_type": "markdown",
      "metadata": {
        "id": "4oQ1_Nvw9XGU"
      },
      "source": [
        "## Loading and Processing Data\n",
        "\n",
        "First, I will download the dataset from Kaggle and begin processing the data."
      ]
    },
    {
      "cell_type": "markdown",
      "metadata": {
        "id": "z-3rO_Y39iD-"
      },
      "source": [
        "## Downloading Data From Kaggle\n",
        "\n",
        "Here, I've gone through some configurations to allow direct download from Kaggle's API."
      ]
    },
    {
      "cell_type": "code",
      "metadata": {
        "id": "DKsZy7Bg6dXn",
        "colab": {
          "base_uri": "https://localhost:8080/"
        },
        "outputId": "64b14706-0762-4116-de11-61a4ac1fea9d"
      },
      "source": [
        "# !pip install -q kaggle\n",
        "# !pip install -q kaggle-cli\n",
        "!mkdir -p ~/.kaggle\n",
        "!cp \"/content/drive/MyDrive/Colab Notebooks/kaggle.json\" ~/.kaggle/\n",
        "!cat ~/.kaggle/kaggle.json \n",
        "!chmod 600 ~/.kaggle/kaggle.json\n",
        "\n",
        "!kaggle datasets download -d crowdflower/twitter-airline-sentiment -p /content/sample_data\n",
        "!unzip sample_data/twitter-airline-sentiment.zip\n",
        "\n",
        "!rm sample_data/twitter-airline-sentiment.zip\n",
        "!rm database.sqlite\n",
        "!mv Tweets.csv sample_data/"
      ],
      "execution_count": 3,
      "outputs": [
        {
          "output_type": "stream",
          "text": [
            "{\"username\":\"natasharavinand\",\"key\":\"3ae1b381c5c2b0543ea78ac07b2b645d\"}Downloading twitter-airline-sentiment.zip to /content/sample_data\n",
            "  0% 0.00/2.55M [00:00<?, ?B/s]\n",
            "100% 2.55M/2.55M [00:00<00:00, 85.4MB/s]\n",
            "Archive:  sample_data/twitter-airline-sentiment.zip\n",
            "  inflating: Tweets.csv              \n",
            "  inflating: database.sqlite         \n"
          ],
          "name": "stdout"
        }
      ]
    },
    {
      "cell_type": "markdown",
      "metadata": {
        "id": "kExsBppu9-wN"
      },
      "source": [
        "Now, I'll go ahead and import some necessary packages that will let us preprocess as well as build the model. I'll be using Keras/Tensorflow."
      ]
    },
    {
      "cell_type": "code",
      "metadata": {
        "id": "uFJq_7Ed96TO"
      },
      "source": [
        "# Basic packages\n",
        "import pandas as pd \n",
        "import numpy as np\n",
        "import re\n",
        "import collections\n",
        "import matplotlib.pyplot as plt\n",
        "\n",
        "# Packages for data preparation\n",
        "from sklearn.model_selection import train_test_split\n",
        "import nltk\n",
        "from nltk.corpus import stopwords\n",
        "from keras.preprocessing.text import Tokenizer\n",
        "from keras.utils.np_utils import to_categorical\n",
        "from sklearn.preprocessing import LabelEncoder\n",
        "\n",
        "# Packages for modeling\n",
        "from keras import models\n",
        "from keras import layers\n",
        "from keras import regularizers"
      ],
      "execution_count": 4,
      "outputs": []
    },
    {
      "cell_type": "markdown",
      "metadata": {
        "id": "lvtePpXN-GEc"
      },
      "source": [
        "I'll also be choosing some parameters."
      ]
    },
    {
      "cell_type": "code",
      "metadata": {
        "id": "KFBHtWcE-J1F"
      },
      "source": [
        "NB_WORDS = 10000  # Parameter indicating the number of words we'll put in the dictionary\n",
        "NB_START_EPOCHS = 30  # Number of epochs we usually start to train with\n",
        "BATCH_SIZE = 500  # Size of the batches used in the mini-batch gradient descent\n",
        "MAX_LEN = 15  # Maximum number of words in a sequence"
      ],
      "execution_count": 5,
      "outputs": []
    },
    {
      "cell_type": "markdown",
      "metadata": {
        "id": "hzwpR_V9-b91"
      },
      "source": [
        "### Data Cleaning\n",
        "\n",
        "One of the most important parts of a data science project is cleaning the data. We'll perform a random shuffle first, so the sentiment classes are equally distributed over the training and testing set. We'll only keep the `text` column as input and the `airline_sentiment` column as the target.\n",
        "\n",
        "Next, we'll remove stopwords. In NLP, stopwords are words that do not have value in predicting the sentiment. Lastly, we'll remove the mentions so this model can be used for multiple airline companies. We'll define functions (from Bert's article) `remove_stopwords` and `remove_mentions` to help with this. "
      ]
    },
    {
      "cell_type": "code",
      "metadata": {
        "id": "Ru8APH3y_LDW"
      },
      "source": [
        "def deep_model(model, X_train, y_train, X_valid, y_valid):\n",
        "    '''\n",
        "    Function to train a multi-class model. The number of epochs and \n",
        "    batch_size are set by the constants at the top of the\n",
        "    notebook. \n",
        "    \n",
        "    Parameters:\n",
        "        model : model with the chosen architecture\n",
        "        X_train : training features\n",
        "        y_train : training target\n",
        "        X_valid : validation features\n",
        "        Y_valid : validation target\n",
        "    Output:\n",
        "        model training history\n",
        "    '''\n",
        "    model.compile(optimizer='rmsprop'\n",
        "                  , loss='categorical_crossentropy'\n",
        "                  , metrics=['accuracy'])\n",
        "    \n",
        "    history = model.fit(X_train\n",
        "                       , y_train\n",
        "                       , epochs=NB_START_EPOCHS\n",
        "                       , batch_size=BATCH_SIZE\n",
        "                       , validation_data=(X_valid, y_valid)\n",
        "                       , verbose=0)\n",
        "    return history\n",
        "def eval_metric(model, history, metric_name):\n",
        "    '''\n",
        "    Function to evaluate a trained model on a chosen metric. \n",
        "    Training and validation metric are plotted in a\n",
        "    line chart for each epoch.\n",
        "    \n",
        "    Parameters:\n",
        "        history : model training history\n",
        "        metric_name : loss or accuracy\n",
        "    Output:\n",
        "        line chart with epochs of x-axis and metric on\n",
        "        y-axis\n",
        "    '''\n",
        "    metric = history.history[metric_name]\n",
        "    val_metric = history.history['val_' + metric_name]\n",
        "    e = range(1, NB_START_EPOCHS + 1)\n",
        "    plt.plot(e, metric, 'bo', label='Train ' + metric_name)\n",
        "    plt.plot(e, val_metric, 'b', label='Validation ' + metric_name)\n",
        "    plt.xlabel('Epoch number')\n",
        "    plt.ylabel(metric_name)\n",
        "    plt.title('Comparing training and validation ' + metric_name + ' for ' + model.Name)\n",
        "    plt.legend()\n",
        "    plt.show()\n",
        "def test_model(model, X_train, y_train, X_test, y_test, epoch_stop):\n",
        "    '''\n",
        "    Function to test the model on new data after training it\n",
        "    on the full training data with the optimal number of epochs.\n",
        "    \n",
        "    Parameters:\n",
        "        model : trained model\n",
        "        X_train : training features\n",
        "        y_train : training target\n",
        "        X_test : test features\n",
        "        y_test : test target\n",
        "        epochs : optimal number of epochs\n",
        "    Output:\n",
        "        test accuracy and test loss\n",
        "    '''\n",
        "    model.fit(X_train\n",
        "              , y_train\n",
        "              , epochs=epoch_stop\n",
        "              , batch_size=BATCH_SIZE\n",
        "              , verbose=0)\n",
        "    results = model.evaluate(X_test, y_test)\n",
        "    print()\n",
        "    print('Test accuracy: {0:.2f}%'.format(results[1]*100))\n",
        "    return results\n",
        "    \n",
        "def remove_stopwords(input_text):\n",
        "    '''\n",
        "    Function to remove English stopwords from a Pandas Series.\n",
        "    \n",
        "    Parameters:\n",
        "        input_text : text to clean\n",
        "    Output:\n",
        "        cleaned Pandas Series \n",
        "    '''\n",
        "    stopwords_list = stopwords.words('english')\n",
        "    # Some words which might indicate a certain sentiment are kept via a whitelist\n",
        "    whitelist = [\"n't\", \"not\", \"no\"]\n",
        "    words = input_text.split() \n",
        "    clean_words = [word for word in words if (word not in stopwords_list or word in whitelist) and len(word) > 1] \n",
        "    return \" \".join(clean_words) \n",
        "    \n",
        "def remove_mentions(input_text):\n",
        "    '''\n",
        "    Function to remove mentions, preceded by @, in a Pandas Series\n",
        "    \n",
        "    Parameters:\n",
        "        input_text : text to clean\n",
        "    Output:\n",
        "        cleaned Pandas Series \n",
        "    '''\n",
        "    return re.sub(r'@\\w+', '', input_text)\n",
        "def compare_models_by_metric(model_1, model_2, model_hist_1, model_hist_2, metric):\n",
        "    '''\n",
        "    Function to compare a metric between two models \n",
        "    \n",
        "    Parameters:\n",
        "        model_hist_1 : training history of model 1\n",
        "        model_hist_2 : training history of model 2\n",
        "        metrix : metric to compare, loss, acc, val_loss or val_acc\n",
        "        \n",
        "    Output:\n",
        "        plot of metrics of both models\n",
        "    '''\n",
        "    metric_model_1 = model_hist_1.history[metric]\n",
        "    metric_model_2 = model_hist_2.history[metric]\n",
        "    e = range(1, NB_START_EPOCHS + 1)\n",
        "    \n",
        "    metrics_dict = {\n",
        "        'acc' : 'Training Accuracy',\n",
        "        'loss' : 'Training Loss',\n",
        "        'val_acc' : 'Validation accuracy',\n",
        "        'val_loss' : 'Validation loss'\n",
        "    }\n",
        "    \n",
        "    metric_label = metrics_dict[metric]\n",
        "    plt.plot(e, metric_model_1, 'bo', label=model_1.Name)\n",
        "    plt.plot(e, metric_model_2, 'b', label=model_2.Name)\n",
        "    plt.xlabel('Epoch number')\n",
        "    plt.ylabel(metric_label)\n",
        "    plt.title('Comparing ' + metric_label + ' between models')\n",
        "    plt.legend()\n",
        "    plt.show()\n",
        "    \n",
        "def optimal_epoch(model_hist):\n",
        "    '''\n",
        "    Function to return the epoch number where the validation loss is\n",
        "    at its minimum\n",
        "    \n",
        "    Parameters:\n",
        "        model_hist : training history of model\n",
        "    Output:\n",
        "        epoch number with minimum validation loss\n",
        "    '''\n",
        "    min_epoch = np.argmin(model_hist.history['val_loss']) + 1\n",
        "    print(\"Minimum validation loss reached in epoch {}\".format(min_epoch))\n",
        "    return min_epoch"
      ],
      "execution_count": 6,
      "outputs": []
    },
    {
      "cell_type": "code",
      "metadata": {
        "colab": {
          "base_uri": "https://localhost:8080/",
          "height": 434
        },
        "id": "YY3rm0_y-zd3",
        "outputId": "2ce5024f-dafa-4d3b-adb9-4de2eb95bb47"
      },
      "source": [
        "df = pd.read_csv('sample_data/Tweets.csv')\n",
        "df.head()"
      ],
      "execution_count": 7,
      "outputs": [
        {
          "output_type": "execute_result",
          "data": {
            "text/html": [
              "<div>\n",
              "<style scoped>\n",
              "    .dataframe tbody tr th:only-of-type {\n",
              "        vertical-align: middle;\n",
              "    }\n",
              "\n",
              "    .dataframe tbody tr th {\n",
              "        vertical-align: top;\n",
              "    }\n",
              "\n",
              "    .dataframe thead th {\n",
              "        text-align: right;\n",
              "    }\n",
              "</style>\n",
              "<table border=\"1\" class=\"dataframe\">\n",
              "  <thead>\n",
              "    <tr style=\"text-align: right;\">\n",
              "      <th></th>\n",
              "      <th>tweet_id</th>\n",
              "      <th>airline_sentiment</th>\n",
              "      <th>airline_sentiment_confidence</th>\n",
              "      <th>negativereason</th>\n",
              "      <th>negativereason_confidence</th>\n",
              "      <th>airline</th>\n",
              "      <th>airline_sentiment_gold</th>\n",
              "      <th>name</th>\n",
              "      <th>negativereason_gold</th>\n",
              "      <th>retweet_count</th>\n",
              "      <th>text</th>\n",
              "      <th>tweet_coord</th>\n",
              "      <th>tweet_created</th>\n",
              "      <th>tweet_location</th>\n",
              "      <th>user_timezone</th>\n",
              "    </tr>\n",
              "  </thead>\n",
              "  <tbody>\n",
              "    <tr>\n",
              "      <th>0</th>\n",
              "      <td>570306133677760513</td>\n",
              "      <td>neutral</td>\n",
              "      <td>1.0000</td>\n",
              "      <td>NaN</td>\n",
              "      <td>NaN</td>\n",
              "      <td>Virgin America</td>\n",
              "      <td>NaN</td>\n",
              "      <td>cairdin</td>\n",
              "      <td>NaN</td>\n",
              "      <td>0</td>\n",
              "      <td>@VirginAmerica What @dhepburn said.</td>\n",
              "      <td>NaN</td>\n",
              "      <td>2015-02-24 11:35:52 -0800</td>\n",
              "      <td>NaN</td>\n",
              "      <td>Eastern Time (US &amp; Canada)</td>\n",
              "    </tr>\n",
              "    <tr>\n",
              "      <th>1</th>\n",
              "      <td>570301130888122368</td>\n",
              "      <td>positive</td>\n",
              "      <td>0.3486</td>\n",
              "      <td>NaN</td>\n",
              "      <td>0.0000</td>\n",
              "      <td>Virgin America</td>\n",
              "      <td>NaN</td>\n",
              "      <td>jnardino</td>\n",
              "      <td>NaN</td>\n",
              "      <td>0</td>\n",
              "      <td>@VirginAmerica plus you've added commercials t...</td>\n",
              "      <td>NaN</td>\n",
              "      <td>2015-02-24 11:15:59 -0800</td>\n",
              "      <td>NaN</td>\n",
              "      <td>Pacific Time (US &amp; Canada)</td>\n",
              "    </tr>\n",
              "    <tr>\n",
              "      <th>2</th>\n",
              "      <td>570301083672813571</td>\n",
              "      <td>neutral</td>\n",
              "      <td>0.6837</td>\n",
              "      <td>NaN</td>\n",
              "      <td>NaN</td>\n",
              "      <td>Virgin America</td>\n",
              "      <td>NaN</td>\n",
              "      <td>yvonnalynn</td>\n",
              "      <td>NaN</td>\n",
              "      <td>0</td>\n",
              "      <td>@VirginAmerica I didn't today... Must mean I n...</td>\n",
              "      <td>NaN</td>\n",
              "      <td>2015-02-24 11:15:48 -0800</td>\n",
              "      <td>Lets Play</td>\n",
              "      <td>Central Time (US &amp; Canada)</td>\n",
              "    </tr>\n",
              "    <tr>\n",
              "      <th>3</th>\n",
              "      <td>570301031407624196</td>\n",
              "      <td>negative</td>\n",
              "      <td>1.0000</td>\n",
              "      <td>Bad Flight</td>\n",
              "      <td>0.7033</td>\n",
              "      <td>Virgin America</td>\n",
              "      <td>NaN</td>\n",
              "      <td>jnardino</td>\n",
              "      <td>NaN</td>\n",
              "      <td>0</td>\n",
              "      <td>@VirginAmerica it's really aggressive to blast...</td>\n",
              "      <td>NaN</td>\n",
              "      <td>2015-02-24 11:15:36 -0800</td>\n",
              "      <td>NaN</td>\n",
              "      <td>Pacific Time (US &amp; Canada)</td>\n",
              "    </tr>\n",
              "    <tr>\n",
              "      <th>4</th>\n",
              "      <td>570300817074462722</td>\n",
              "      <td>negative</td>\n",
              "      <td>1.0000</td>\n",
              "      <td>Can't Tell</td>\n",
              "      <td>1.0000</td>\n",
              "      <td>Virgin America</td>\n",
              "      <td>NaN</td>\n",
              "      <td>jnardino</td>\n",
              "      <td>NaN</td>\n",
              "      <td>0</td>\n",
              "      <td>@VirginAmerica and it's a really big bad thing...</td>\n",
              "      <td>NaN</td>\n",
              "      <td>2015-02-24 11:14:45 -0800</td>\n",
              "      <td>NaN</td>\n",
              "      <td>Pacific Time (US &amp; Canada)</td>\n",
              "    </tr>\n",
              "  </tbody>\n",
              "</table>\n",
              "</div>"
            ],
            "text/plain": [
              "             tweet_id  ...               user_timezone\n",
              "0  570306133677760513  ...  Eastern Time (US & Canada)\n",
              "1  570301130888122368  ...  Pacific Time (US & Canada)\n",
              "2  570301083672813571  ...  Central Time (US & Canada)\n",
              "3  570301031407624196  ...  Pacific Time (US & Canada)\n",
              "4  570300817074462722  ...  Pacific Time (US & Canada)\n",
              "\n",
              "[5 rows x 15 columns]"
            ]
          },
          "metadata": {
            "tags": []
          },
          "execution_count": 7
        }
      ]
    },
    {
      "cell_type": "markdown",
      "metadata": {
        "id": "3vXUVOx79qA2"
      },
      "source": [
        "We see that the data includes information on:\n",
        "\n",
        "- Airline sentiment\n",
        "- Negative reason, if any\n",
        "- Tweet ID\n",
        "- Airline\n",
        "- Name"
      ]
    },
    {
      "cell_type": "code",
      "metadata": {
        "id": "1F57I2e-_1mC",
        "colab": {
          "base_uri": "https://localhost:8080/"
        },
        "outputId": "4a24bba7-12f8-4026-ec7f-47e434194d64"
      },
      "source": [
        "nltk.download('stopwords')\n",
        "\n",
        "df = df.reindex(np.random.permutation(df.index)) # shuffle tweets\n",
        "df = df[['text', 'airline_sentiment']] # only keep two columns\n",
        "df.text = df.text.apply(remove_stopwords).apply(remove_mentions) # remove stopwords and mentions using helper function"
      ],
      "execution_count": 9,
      "outputs": [
        {
          "output_type": "stream",
          "text": [
            "[nltk_data] Downloading package stopwords to /root/nltk_data...\n",
            "[nltk_data]   Unzipping corpora/stopwords.zip.\n"
          ],
          "name": "stdout"
        }
      ]
    },
    {
      "cell_type": "markdown",
      "metadata": {
        "id": "K11Tc_4F_9Vy"
      },
      "source": [
        "### Train-Test Split\n",
        "\n",
        "We now split the data into training and testing."
      ]
    },
    {
      "cell_type": "code",
      "metadata": {
        "id": "W7quhFQBACUN"
      },
      "source": [
        "X_train, X_test, y_train, y_test = train_test_split(df.text, df.airline_sentiment, test_size=0.1, random_state=37)"
      ],
      "execution_count": 10,
      "outputs": []
    },
    {
      "cell_type": "markdown",
      "metadata": {
        "id": "PPBiQm-oAFLe"
      },
      "source": [
        "### Converting Words to Numbers\n",
        "\n",
        "We need to convert words into tokens, which means that we convert the words to integers that refer to an index in a dictionary. Here, we will only keep the most frequent words in the training set. We'll apply filters to clean up the text and make the words all lower case, with words separated by spaces.\n",
        "\n",
        "We'll use `Tokenizer` to do this."
      ]
    },
    {
      "cell_type": "code",
      "metadata": {
        "id": "4n0pcziFAc-w"
      },
      "source": [
        "tk = Tokenizer(num_words=NB_WORDS,\n",
        "               filters='!\"#$%&()*+,-./:;<=>?@[\\\\]^_`{\"}~\\t\\n',\n",
        "               lower=True,\n",
        "               char_level=False,\n",
        "               split=' ')\n",
        "tk.fit_on_texts(X_train)"
      ],
      "execution_count": 11,
      "outputs": []
    },
    {
      "cell_type": "markdown",
      "metadata": {
        "id": "3J_vL49SAfbK"
      },
      "source": [
        "Now that we've created our \"token dictionary\", we'll convert the text of a tweet to a vector with our previously defined `NB_WORDS` values. `mode=binary` contains an indicator as to whether the word appeared in the tweet or not."
      ]
    },
    {
      "cell_type": "code",
      "metadata": {
        "id": "iu7Lotm2Aq2O"
      },
      "source": [
        "X_train_oh = tk.texts_to_matrix(X_train, mode='binary')\n",
        "X_test_oh = tk.texts_to_matrix(X_test, mode='binary')"
      ],
      "execution_count": 12,
      "outputs": []
    },
    {
      "cell_type": "markdown",
      "metadata": {
        "id": "2gxcFpmnAxIH"
      },
      "source": [
        "### Converting Target Classes to Numbers\n",
        "\n",
        "We will now use a `LabelEncoder()` and `to_categorical` (one-hot encoding) to convert the target classes to numbers as well."
      ]
    },
    {
      "cell_type": "code",
      "metadata": {
        "id": "0zMOzBntAuTI"
      },
      "source": [
        "le = LabelEncoder()\n",
        "y_train_le = le.fit_transform(y_train)\n",
        "y_test_le = le.transform(y_test)\n",
        "y_train_oh = to_categorical(y_train_le)\n",
        "y_test_oh = to_categorical(y_test_le)"
      ],
      "execution_count": 13,
      "outputs": []
    },
    {
      "cell_type": "markdown",
      "metadata": {
        "id": "sERwg870BHgO"
      },
      "source": [
        "### Creating a Validation Set\n",
        "\n",
        "We can now split off a validation set. A validation set is used to evaluate the models performance when we tune the parameters of the model. Notice we use the one hot encoded version of the X and y training sets."
      ]
    },
    {
      "cell_type": "code",
      "metadata": {
        "id": "BnI6r1AkBQCk"
      },
      "source": [
        "X_train_rest, X_valid, y_train_rest, y_valid = train_test_split(X_train_oh, y_train_oh, test_size=0.1, random_state=37)"
      ],
      "execution_count": 14,
      "outputs": []
    },
    {
      "cell_type": "markdown",
      "metadata": {
        "id": "tT8umVHcBWja"
      },
      "source": [
        "## Deep Learning\n",
        "\n",
        "### Creating an Overfitting Model\n",
        "\n",
        "Let's explore how we can overcome overfitting by first creating a model that purposely overfits. We'll define a model architecture of 2 densely connected layers of 64 neurons. The `input_shape` for the first layer is equal to the <i>number of words we kept in the dictionary and for which we created one-hot-encoded features</i>.\n",
        "\n",
        "The last layer must have 3 output neurons, as we want to predict 3 different sentiment classes. We'll use the `softmax` activation function as it makes sure the three probabilities will sum up to 1.\n",
        "\n",
        "As Bert lays out:\n",
        "\n",
        "The number of parameters to train is computed as (nb inputs x nb elements in hidden layer) + nb bias terms. The number of inputs for the first layer equals the number of words in our corpus. The subsequent layers have the number of outputs of the previous layer as inputs. So the number of parameters per layer are:\n",
        "\n",
        "- First layer : (10000 x 64) + 64 = 640064\n",
        "- Second layer : (64 x 64) + 64 = 4160\n",
        "- Last layer : (64 x 3) + 3 = 195\n",
        "\n",
        "We'll use `Sequential()` from Keras to define the model."
      ]
    },
    {
      "cell_type": "code",
      "metadata": {
        "id": "pPIsiMtdCX9O"
      },
      "source": [
        "base_model = models.Sequential()\n",
        "base_model.add(layers.Dense(64, activation='relu', input_shape=(NB_WORDS,)))\n",
        "base_model.add(layers.Dense(64, activation='relu'))\n",
        "base_model.add(layers.Dense(3, activation='softmax'))\n",
        "base_model.Name = 'Baseline model'"
      ],
      "execution_count": 15,
      "outputs": []
    },
    {
      "cell_type": "markdown",
      "metadata": {
        "id": "818yIZI0CfqS"
      },
      "source": [
        "This project is a multi-class, single-label prediction, so we can use `categorical_crossentropy` as the loss function and `softmax` as the final activation function. We'll fit the model on the train data and validate on the validation set to tune our parameters. We'll run over our set amount of epochs and see when the model starts to overfit; i.e., when validation accuracy starts to suddenly plummet."
      ]
    },
    {
      "cell_type": "code",
      "metadata": {
        "colab": {
          "base_uri": "https://localhost:8080/",
          "height": 312
        },
        "id": "vX_wp1tTC7DB",
        "outputId": "982af083-154a-4d67-bd51-53f8098c8970"
      },
      "source": [
        "base_history = deep_model(base_model, X_train_rest, y_train_rest, X_valid, y_valid)\n",
        "base_min = optimal_epoch(base_history)\n",
        "eval_metric(base_model, base_history, 'loss')"
      ],
      "execution_count": 16,
      "outputs": [
        {
          "output_type": "stream",
          "text": [
            "Minimum validation loss reached in epoch 3\n"
          ],
          "name": "stdout"
        },
        {
          "output_type": "display_data",
          "data": {
            "image/png": "[encoded data removed]",
            "text/plain": [
              "<Figure size 432x288 with 1 Axes>"
            ]
          },
          "metadata": {
            "tags": [],
            "needs_background": "light"
          }
        }
      ]
    },
    {
      "cell_type": "markdown",
      "metadata": {
        "id": "A4DMlbTND9e8"
      },
      "source": [
        "We observe that validation loss, in the beginning, is decreasing. But by the 4th epoch, this stops and then the loss begins to decrease rapidly while the train loss approaches 0. "
      ]
    },
    {
      "cell_type": "markdown",
      "metadata": {
        "id": "9WcyFa4LEH6T"
      },
      "source": [
        "## Handling Overfitting\n",
        "\n",
        "We can try 3 different approaches to combat overfitting:\n",
        "\n",
        "- Reduce the network’s capacity by removing layers or reducing the number of elements in the hidden layers\n",
        "- Apply regularization, which comes down to adding a cost to the loss function for large weights\n",
        "- Use Dropout layers, which will randomly remove certain features by setting them to zero"
      ]
    },
    {
      "cell_type": "markdown",
      "metadata": {
        "id": "05pEb3pxEQQO"
      },
      "source": [
        "### Reducing the Network's Capacity\n",
        "\n",
        "The higher the number of trainable parameters, the easier the model can memorize the target for each training sample. This doesn't generalize well on new data. By reducing the capacity of the network, we \"force\" it to learn patterns rather than memorize data.\n",
        "\n",
        "However, we don't want to reduce the model's capacity by <i>too</i> much. This will lead to underfitting.\n",
        "\n",
        "We'll reduce the network's capacity by removing one hidden layer and lowering the number of neurons in the remaining layer to 16."
      ]
    },
    {
      "cell_type": "code",
      "metadata": {
        "colab": {
          "base_uri": "https://localhost:8080/",
          "height": 312
        },
        "id": "teo4BTU8FHZ6",
        "outputId": "d2157005-aa9e-483a-df6e-d38393c04990"
      },
      "source": [
        "reduced_model = models.Sequential()\n",
        "reduced_model.add(layers.Dense(16, activation='relu', input_shape=(NB_WORDS,)))\n",
        "reduced_model.add(layers.Dense(3, activation='softmax'))\n",
        "reduced_model.Name = 'Reduced model'\n",
        "reduced_history = deep_model(reduced_model, X_train_rest, y_train_rest, X_valid, y_valid)\n",
        "reduced_min = optimal_epoch(reduced_history)\n",
        "eval_metric(reduced_model, reduced_history, 'loss')"
      ],
      "execution_count": 17,
      "outputs": [
        {
          "output_type": "stream",
          "text": [
            "Minimum validation loss reached in epoch 11\n"
          ],
          "name": "stdout"
        },
        {
          "output_type": "display_data",
          "data": {
            "image/png": "[encoded data removed]",
            "text/plain": [
              "<Figure size 432x288 with 1 Axes>"
            ]
          },
          "metadata": {
            "tags": [],
            "needs_background": "light"
          }
        }
      ]
    },
    {
      "cell_type": "markdown",
      "metadata": {
        "id": "fZ3BgAExFRLf"
      },
      "source": [
        "We see that it takes almost 3 times as many epochs for the model to show signs of overfitting. The validation loss also goes up more slowly than the previous model.\n",
        "\n",
        "We can use one of Bert's helper functions to compare the models by metric."
      ]
    },
    {
      "cell_type": "code",
      "metadata": {
        "colab": {
          "base_uri": "https://localhost:8080/",
          "height": 294
        },
        "id": "-F4QDvOnFbAY",
        "outputId": "71dea771-4bf1-4f48-bc82-64f2eec429ef"
      },
      "source": [
        "compare_models_by_metric(base_model, reduced_model, base_history, reduced_history, 'val_loss')"
      ],
      "execution_count": 18,
      "outputs": [
        {
          "output_type": "display_data",
          "data": {
            "image/png": "[encoded data removed]",
            "text/plain": [
              "<Figure size 432x288 with 1 Axes>"
            ]
          },
          "metadata": {
            "tags": [],
            "needs_background": "light"
          }
        }
      ]
    },
    {
      "cell_type": "markdown",
      "metadata": {
        "id": "ZjXTrZjVFdA0"
      },
      "source": [
        "We see that when we compare the validation loss of the previous model, its cleaer that the second model starts overfitting at a later epoch."
      ]
    },
    {
      "cell_type": "markdown",
      "metadata": {
        "id": "IJaA60UyFwH_"
      },
      "source": [
        "### Applying Regularization\n",
        "\n",
        "We can also apply a weight regularization to the model. This adds a cost to the loss function of the network for large weights or parameter values. Thus, we get a simpler model that will be forced to learn only relevant patterns in the train data rather than ALL patterns, and thus won't overfit as much.\n",
        "\n",
        "There are two kinds of regularization: L1 and L2.\n",
        "\n",
        "- <b>L1 regularization</b> will add a cost with regards to the absolute value of the parameters. It will result in some of the weights to be equal to zero.\n",
        "- <b>L2 regularization</b> will add a cost with regards to the squared value of the parameters. This results in smaller weights.\n",
        "\n",
        "We'll use L2 regularization here. Notice that we haven't changed the model architecture."
      ]
    },
    {
      "cell_type": "code",
      "metadata": {
        "colab": {
          "base_uri": "https://localhost:8080/"
        },
        "id": "Cn6e55OpGOsR",
        "outputId": "ae39ae42-5ad7-47e5-f02f-aaaf14d24903"
      },
      "source": [
        "reg_model = models.Sequential()\n",
        "reg_model.add(layers.Dense(64, kernel_regularizer=regularizers.l2(0.001), activation='relu', input_shape=(NB_WORDS,)))\n",
        "reg_model.add(layers.Dense(64, kernel_regularizer=regularizers.l2(0.001), activation='relu'))\n",
        "reg_model.add(layers.Dense(3, activation='softmax'))\n",
        "reg_model.Name = 'L2 Regularization model'\n",
        "reg_history = deep_model(reg_model, X_train_rest, y_train_rest, X_valid, y_valid)\n",
        "reg_min = optimal_epoch(reg_history)"
      ],
      "execution_count": 19,
      "outputs": [
        {
          "output_type": "stream",
          "text": [
            "Minimum validation loss reached in epoch 4\n"
          ],
          "name": "stdout"
        }
      ]
    },
    {
      "cell_type": "code",
      "metadata": {
        "colab": {
          "base_uri": "https://localhost:8080/",
          "height": 294
        },
        "id": "nSDrJWS9GbhX",
        "outputId": "f159ba82-9ce9-4b58-ccef-afe6c76175f9"
      },
      "source": [
        "eval_metric(reg_model, reg_history, 'loss')"
      ],
      "execution_count": 20,
      "outputs": [
        {
          "output_type": "display_data",
          "data": {
            "image/png": "[encoded data removed]",
            "text/plain": [
              "<Figure size 432x288 with 1 Axes>"
            ]
          },
          "metadata": {
            "tags": [],
            "needs_background": "light"
          }
        }
      ]
    },
    {
      "cell_type": "code",
      "metadata": {
        "colab": {
          "base_uri": "https://localhost:8080/",
          "height": 294
        },
        "id": "dssrtUhmGlTg",
        "outputId": "786071b9-9c34-4282-ccfe-ce60ef85d8f4"
      },
      "source": [
        "compare_models_by_metric(base_model, reg_model, base_history, reg_history, 'val_loss')"
      ],
      "execution_count": 21,
      "outputs": [
        {
          "output_type": "display_data",
          "data": {
            "image/png": "[encoded data removed]",
            "text/plain": [
              "<Figure size 432x288 with 1 Axes>"
            ]
          },
          "metadata": {
            "tags": [],
            "needs_background": "light"
          }
        }
      ]
    },
    {
      "cell_type": "markdown",
      "metadata": {
        "id": "-GQEdIT4GclN"
      },
      "source": [
        "We notice that the regularized model starts overfitting in the same epoch as the baseline model, but the validation loss increases more slowly."
      ]
    },
    {
      "cell_type": "markdown",
      "metadata": {
        "id": "sS4Yj3kJdxLx"
      },
      "source": [
        "### Adding Dropout Layers\n",
        "\n",
        "Lastly, we can use dropout layers to randomly set output features of a layer to zero. This will let the model not rely on any one neuron in its predictions."
      ]
    },
    {
      "cell_type": "code",
      "metadata": {
        "colab": {
          "base_uri": "https://localhost:8080/",
          "height": 312
        },
        "id": "xzM-g_syeAiK",
        "outputId": "6a3b0f60-d700-420a-c835-e3bf2b13d32e"
      },
      "source": [
        "drop_model = models.Sequential()\n",
        "drop_model.add(layers.Dense(64, activation='relu', input_shape=(NB_WORDS,)))\n",
        "drop_model.add(layers.Dropout(0.5))\n",
        "drop_model.add(layers.Dense(64, activation='relu'))\n",
        "drop_model.add(layers.Dropout(0.5))\n",
        "drop_model.add(layers.Dense(3, activation='softmax'))\n",
        "drop_model.Name = 'Dropout layers model'\n",
        "\n",
        "drop_history = deep_model(drop_model, X_train_rest, y_train_rest, X_valid, y_valid)\n",
        "drop_min = optimal_epoch(drop_history)\n",
        "eval_metric(drop_model, drop_history, 'loss')"
      ],
      "execution_count": 23,
      "outputs": [
        {
          "output_type": "stream",
          "text": [
            "Minimum validation loss reached in epoch 5\n"
          ],
          "name": "stdout"
        },
        {
          "output_type": "display_data",
          "data": {
            "image/png": "[encoded data removed]",
            "text/plain": [
              "<Figure size 432x288 with 1 Axes>"
            ]
          },
          "metadata": {
            "tags": [],
            "needs_background": "light"
          }
        }
      ]
    },
    {
      "cell_type": "markdown",
      "metadata": {
        "id": "pSYGSnzBeSxf"
      },
      "source": [
        "We see that the model with dropout layers begins to overfit layer than the baseline, and the loss also increases at a slower rate."
      ]
    },
    {
      "cell_type": "code",
      "metadata": {
        "colab": {
          "base_uri": "https://localhost:8080/",
          "height": 294
        },
        "id": "KYtsSSb1eXQM",
        "outputId": "93a43c93-b479-48be-9112-a12b4d61cc89"
      },
      "source": [
        "compare_models_by_metric(base_model, drop_model, base_history, drop_history, 'val_loss')\n"
      ],
      "execution_count": 24,
      "outputs": [
        {
          "output_type": "display_data",
          "data": {
            "image/png": "[encoded data removed]",
            "text/plain": [
              "<Figure size 432x288 with 1 Axes>"
            ]
          },
          "metadata": {
            "tags": [],
            "needs_background": "light"
          }
        }
      ]
    },
    {
      "cell_type": "markdown",
      "metadata": {
        "id": "PStOEXn5ebWD"
      },
      "source": [
        "We see that the baseline model experiences a validation loss that is much higher as the epochs go up."
      ]
    },
    {
      "cell_type": "markdown",
      "metadata": {
        "id": "THg9TVHqejzS"
      },
      "source": [
        "### Evaluating on Testing Set\n",
        "\n",
        "It seems that the reduced model perform best in reducing overfitting. Let's verify this on the test set."
      ]
    },
    {
      "cell_type": "code",
      "metadata": {
        "colab": {
          "base_uri": "https://localhost:8080/"
        },
        "id": "irlmGEL3e4M5",
        "outputId": "a287a8ee-ba77-48a9-e179-d332b4dbf9d2"
      },
      "source": [
        "base_results = test_model(base_model, X_train_oh, y_train_oh, X_test_oh, y_test_oh, base_min) #baseline model\n",
        "\n",
        "reduced_results = test_model(reduced_model, X_train_oh, y_train_oh, X_test_oh, y_test_oh, reduced_min) #reduced model\n",
        "\n",
        "reg_results = test_model(reg_model, X_train_oh, y_train_oh, X_test_oh, y_test_oh, reg_min) #l2 reg\n",
        "\n",
        "drop_results = test_model(drop_model, X_train_oh, y_train_oh, X_test_oh, y_test_oh, drop_min) #drouput"
      ],
      "execution_count": 25,
      "outputs": [
        {
          "output_type": "stream",
          "text": [
            "46/46 [==============================] - 0s 3ms/step - loss: 1.2000 - accuracy: 0.7596\n",
            "\n",
            "Test accuracy: 75.96%\n",
            "46/46 [==============================] - 0s 2ms/step - loss: 0.6958 - accuracy: 0.7835\n",
            "\n",
            "Test accuracy: 78.35%\n",
            "46/46 [==============================] - 0s 3ms/step - loss: 0.8168 - accuracy: 0.7787\n",
            "\n",
            "Test accuracy: 77.87%\n",
            "46/46 [==============================] - 0s 2ms/step - loss: 0.9919 - accuracy: 0.7889\n",
            "\n",
            "Test accuracy: 78.89%\n"
          ],
          "name": "stdout"
        }
      ]
    },
    {
      "cell_type": "markdown",
      "metadata": {
        "id": "IKr5_yGsfGx7"
      },
      "source": [
        "We see that the model actually performs best with dropout layers."
      ]
    }
  ]
}