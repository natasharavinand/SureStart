{
  "nbformat": 4,
  "nbformat_minor": 0,
  "metadata": {
    "colab": {
      "name": "Predicting House Prices with CNNs.ipynb",
      "provenance": [],
      "collapsed_sections": []
    },
    "kernelspec": {
      "name": "python3",
      "display_name": "Python 3"
    },
    "accelerator": "GPU"
  },
  "cells": [
    {
      "cell_type": "markdown",
      "metadata": {
        "id": "CGVAVz6CA1za"
      },
      "source": [
        "# Predicting House Prices with a Convolutional Neural Network CNN\n",
        "\n",
        "In this notebook, I will be building a CNN model to predict house prices inspired by Joseph Lee's model [here](https://hackernoon.com/build-your-first-neural-network-to-predict-house-prices-with-keras-3fb0839680f4). I will be using house price data from [here](https://drive.google.com/file/d/1GfvKA0qznNVknghV4botnNxyH-KvODOC/view). In this project, I'll be providing background of the data, going through data processing (splitting the data into train, validation, and testing). Then, I'll go into building the model. Lastly, I'll look at our predictions and error."
      ]
    },
    {
      "cell_type": "markdown",
      "metadata": {
        "id": "tM8mrViDBW5e"
      },
      "source": [
        "## Loading in the Data and Processing\n",
        "\n",
        "In preprocessing, we'll be loading in our csv file and starting basic data preprocessing."
      ]
    },
    {
      "cell_type": "code",
      "metadata": {
        "colab": {
          "base_uri": "https://localhost:8080/"
        },
        "id": "I3RmRoYBB9LR",
        "outputId": "e45d55db-9d2b-437c-f65c-80c214b3528c"
      },
      "source": [
        "from google.colab import drive\n",
        "drive.mount('/content/drive')"
      ],
      "execution_count": 2,
      "outputs": [
        {
          "output_type": "stream",
          "text": [
            "Mounted at /content/drive\n"
          ],
          "name": "stdout"
        }
      ]
    },
    {
      "cell_type": "code",
      "metadata": {
        "id": "X4rIHSW2CXsZ"
      },
      "source": [
        "import pandas as pd\n",
        "\n",
        "df = pd.read_csv(\"/content/drive/My Drive/Colab Notebooks/SureStart/Predicting House Prices with CNNs/housepricedata.csv\")"
      ],
      "execution_count": 3,
      "outputs": []
    },
    {
      "cell_type": "code",
      "metadata": {
        "colab": {
          "base_uri": "https://localhost:8080/",
          "height": 197
        },
        "id": "dzJ-K7gtC8V5",
        "outputId": "3ed86e88-2912-46da-bc83-3a9055702371"
      },
      "source": [
        "df.head()"
      ],
      "execution_count": 4,
      "outputs": [
        {
          "output_type": "execute_result",
          "data": {
            "text/html": [
              "<div>\n",
              "<style scoped>\n",
              "    .dataframe tbody tr th:only-of-type {\n",
              "        vertical-align: middle;\n",
              "    }\n",
              "\n",
              "    .dataframe tbody tr th {\n",
              "        vertical-align: top;\n",
              "    }\n",
              "\n",
              "    .dataframe thead th {\n",
              "        text-align: right;\n",
              "    }\n",
              "</style>\n",
              "<table border=\"1\" class=\"dataframe\">\n",
              "  <thead>\n",
              "    <tr style=\"text-align: right;\">\n",
              "      <th></th>\n",
              "      <th>LotArea</th>\n",
              "      <th>OverallQual</th>\n",
              "      <th>OverallCond</th>\n",
              "      <th>TotalBsmtSF</th>\n",
              "      <th>FullBath</th>\n",
              "      <th>HalfBath</th>\n",
              "      <th>BedroomAbvGr</th>\n",
              "      <th>TotRmsAbvGrd</th>\n",
              "      <th>Fireplaces</th>\n",
              "      <th>GarageArea</th>\n",
              "      <th>AboveMedianPrice</th>\n",
              "    </tr>\n",
              "  </thead>\n",
              "  <tbody>\n",
              "    <tr>\n",
              "      <th>0</th>\n",
              "      <td>8450</td>\n",
              "      <td>7</td>\n",
              "      <td>5</td>\n",
              "      <td>856</td>\n",
              "      <td>2</td>\n",
              "      <td>1</td>\n",
              "      <td>3</td>\n",
              "      <td>8</td>\n",
              "      <td>0</td>\n",
              "      <td>548</td>\n",
              "      <td>1</td>\n",
              "    </tr>\n",
              "    <tr>\n",
              "      <th>1</th>\n",
              "      <td>9600</td>\n",
              "      <td>6</td>\n",
              "      <td>8</td>\n",
              "      <td>1262</td>\n",
              "      <td>2</td>\n",
              "      <td>0</td>\n",
              "      <td>3</td>\n",
              "      <td>6</td>\n",
              "      <td>1</td>\n",
              "      <td>460</td>\n",
              "      <td>1</td>\n",
              "    </tr>\n",
              "    <tr>\n",
              "      <th>2</th>\n",
              "      <td>11250</td>\n",
              "      <td>7</td>\n",
              "      <td>5</td>\n",
              "      <td>920</td>\n",
              "      <td>2</td>\n",
              "      <td>1</td>\n",
              "      <td>3</td>\n",
              "      <td>6</td>\n",
              "      <td>1</td>\n",
              "      <td>608</td>\n",
              "      <td>1</td>\n",
              "    </tr>\n",
              "    <tr>\n",
              "      <th>3</th>\n",
              "      <td>9550</td>\n",
              "      <td>7</td>\n",
              "      <td>5</td>\n",
              "      <td>756</td>\n",
              "      <td>1</td>\n",
              "      <td>0</td>\n",
              "      <td>3</td>\n",
              "      <td>7</td>\n",
              "      <td>1</td>\n",
              "      <td>642</td>\n",
              "      <td>0</td>\n",
              "    </tr>\n",
              "    <tr>\n",
              "      <th>4</th>\n",
              "      <td>14260</td>\n",
              "      <td>8</td>\n",
              "      <td>5</td>\n",
              "      <td>1145</td>\n",
              "      <td>2</td>\n",
              "      <td>1</td>\n",
              "      <td>4</td>\n",
              "      <td>9</td>\n",
              "      <td>1</td>\n",
              "      <td>836</td>\n",
              "      <td>1</td>\n",
              "    </tr>\n",
              "  </tbody>\n",
              "</table>\n",
              "</div>"
            ],
            "text/plain": [
              "   LotArea  OverallQual  OverallCond  ...  Fireplaces  GarageArea  AboveMedianPrice\n",
              "0     8450            7            5  ...           0         548                 1\n",
              "1     9600            6            8  ...           1         460                 1\n",
              "2    11250            7            5  ...           1         608                 1\n",
              "3     9550            7            5  ...           1         642                 0\n",
              "4    14260            8            5  ...           1         836                 1\n",
              "\n",
              "[5 rows x 11 columns]"
            ]
          },
          "metadata": {
            "tags": []
          },
          "execution_count": 4
        }
      ]
    },
    {
      "cell_type": "code",
      "metadata": {
        "colab": {
          "base_uri": "https://localhost:8080/"
        },
        "id": "lL5jV91lC9UZ",
        "outputId": "63cb20f2-4be9-4eb8-c6dd-1786822a5c27"
      },
      "source": [
        "df.info()"
      ],
      "execution_count": 5,
      "outputs": [
        {
          "output_type": "stream",
          "text": [
            "<class 'pandas.core.frame.DataFrame'>\n",
            "RangeIndex: 1460 entries, 0 to 1459\n",
            "Data columns (total 11 columns):\n",
            " #   Column            Non-Null Count  Dtype\n",
            "---  ------            --------------  -----\n",
            " 0   LotArea           1460 non-null   int64\n",
            " 1   OverallQual       1460 non-null   int64\n",
            " 2   OverallCond       1460 non-null   int64\n",
            " 3   TotalBsmtSF       1460 non-null   int64\n",
            " 4   FullBath          1460 non-null   int64\n",
            " 5   HalfBath          1460 non-null   int64\n",
            " 6   BedroomAbvGr      1460 non-null   int64\n",
            " 7   TotRmsAbvGrd      1460 non-null   int64\n",
            " 8   Fireplaces        1460 non-null   int64\n",
            " 9   GarageArea        1460 non-null   int64\n",
            " 10  AboveMedianPrice  1460 non-null   int64\n",
            "dtypes: int64(11)\n",
            "memory usage: 125.6 KB\n"
          ],
          "name": "stdout"
        }
      ]
    },
    {
      "cell_type": "markdown",
      "metadata": {
        "id": "8wD4kYF4DAOi"
      },
      "source": [
        "We see the data includes values such as:\n",
        "\n",
        "- Lot Area (in sq ft)\n",
        "- Overall Quality (scale from 1 to 10)\n",
        "- Overall Condition (scale from 1 to 10)\n",
        "- Total Basement Area (in sq ft)\n",
        "- Number of Full Bathrooms\n",
        "- Number of Half Bathrooms\n",
        "- Number of Bedrooms above ground\n",
        "- Total Number of Rooms above ground\n",
        "- Number of Fireplaces\n",
        "- Garage Area (in sq ft)\n",
        "\n",
        "We want to <i>predict the last column regarding whether the house is above a median or not</i>. We see, helpfully, this is already encoded as 1 for yes and 0 for no. If this wasn't, we'd have to use an encoding process in our processing.\n",
        "\n",
        "Now, we'll convert our dataframe into an numpy array. "
      ]
    },
    {
      "cell_type": "code",
      "metadata": {
        "colab": {
          "base_uri": "https://localhost:8080/"
        },
        "id": "QOP-nrWPDmmt",
        "outputId": "213bdbf3-1da0-4291-e999-715f90777d36"
      },
      "source": [
        "dataset = df.values\n",
        "dataset"
      ],
      "execution_count": 6,
      "outputs": [
        {
          "output_type": "execute_result",
          "data": {
            "text/plain": [
              "array([[ 8450,     7,     5, ...,     0,   548,     1],\n",
              "       [ 9600,     6,     8, ...,     1,   460,     1],\n",
              "       [11250,     7,     5, ...,     1,   608,     1],\n",
              "       ...,\n",
              "       [ 9042,     7,     9, ...,     2,   252,     1],\n",
              "       [ 9717,     5,     6, ...,     0,   240,     0],\n",
              "       [ 9937,     5,     6, ...,     0,   276,     0]])"
            ]
          },
          "metadata": {
            "tags": []
          },
          "execution_count": 6
        }
      ]
    },
    {
      "cell_type": "markdown",
      "metadata": {
        "id": "4UkGyrPnDxiw"
      },
      "source": [
        "We can now split our array of arrays into input features (`X`) and what we want to predict (`Y`)."
      ]
    },
    {
      "cell_type": "code",
      "metadata": {
        "id": "V66oGRNODxK7"
      },
      "source": [
        "X = dataset[:, :10]\n",
        "y = dataset[:,10]"
      ],
      "execution_count": 7,
      "outputs": []
    },
    {
      "cell_type": "code",
      "metadata": {
        "colab": {
          "base_uri": "https://localhost:8080/"
        },
        "id": "O4uYmC7qEHBi",
        "outputId": "d9e49c5f-9626-4533-e46e-5986e70872f7"
      },
      "source": [
        "print(\"X\")\n",
        "print(X)\n",
        "print('\\n')\n",
        "print(\"Y\")\n",
        "print(y)"
      ],
      "execution_count": 8,
      "outputs": [
        {
          "output_type": "stream",
          "text": [
            "X\n",
            "[[ 8450     7     5 ...     8     0   548]\n",
            " [ 9600     6     8 ...     6     1   460]\n",
            " [11250     7     5 ...     6     1   608]\n",
            " ...\n",
            " [ 9042     7     9 ...     9     2   252]\n",
            " [ 9717     5     6 ...     5     0   240]\n",
            " [ 9937     5     6 ...     6     0   276]]\n",
            "\n",
            "\n",
            "Y\n",
            "[1 1 1 ... 1 0 0]\n"
          ],
          "name": "stdout"
        }
      ]
    },
    {
      "cell_type": "markdown",
      "metadata": {
        "id": "JOcPlPT1ETB-"
      },
      "source": [
        "Now, we want to make sure the scale of our input features are similar. Why do we have to do this? We see that some input features are in the thousands, while others are between 1-10. We don't want the nonrelative magnitude to influence our model, so we'll normalize using the `preprocessing` library in the `sklearn` package."
      ]
    },
    {
      "cell_type": "code",
      "metadata": {
        "id": "B-Y9BthREjpV"
      },
      "source": [
        "from sklearn import preprocessing\n",
        "\n",
        "min_max_scaler = preprocessing.MinMaxScaler()\n",
        "X_scale = min_max_scaler.fit_transform(X)"
      ],
      "execution_count": 9,
      "outputs": []
    },
    {
      "cell_type": "code",
      "metadata": {
        "colab": {
          "base_uri": "https://localhost:8080/"
        },
        "id": "DQlTa1P6Ex3A",
        "outputId": "685be40f-749f-4b62-97bf-5a5596cce811"
      },
      "source": [
        "X_scale"
      ],
      "execution_count": 10,
      "outputs": [
        {
          "output_type": "execute_result",
          "data": {
            "text/plain": [
              "array([[0.0334198 , 0.66666667, 0.5       , ..., 0.5       , 0.        ,\n",
              "        0.3864598 ],\n",
              "       [0.03879502, 0.55555556, 0.875     , ..., 0.33333333, 0.33333333,\n",
              "        0.32440056],\n",
              "       [0.04650728, 0.66666667, 0.5       , ..., 0.33333333, 0.33333333,\n",
              "        0.42877292],\n",
              "       ...,\n",
              "       [0.03618687, 0.66666667, 1.        , ..., 0.58333333, 0.66666667,\n",
              "        0.17771509],\n",
              "       [0.03934189, 0.44444444, 0.625     , ..., 0.25      , 0.        ,\n",
              "        0.16925247],\n",
              "       [0.04037019, 0.44444444, 0.625     , ..., 0.33333333, 0.        ,\n",
              "        0.19464034]])"
            ]
          },
          "metadata": {
            "tags": []
          },
          "execution_count": 10
        }
      ]
    },
    {
      "cell_type": "markdown",
      "metadata": {
        "id": "GPyB7R9bE0gB"
      },
      "source": [
        "Now that we've scaled the `X` values, we can move to splitting into a training, validation, and testing set. We need 3 sets in the pipeline, as the validation data lets our model learn better from non-training data. In a ML pipeline, we often:\n",
        "\n",
        "1. Specify some hyperparameters\n",
        "2. Train on the training set, which fills in some parameters\n",
        "3. Record the loss on the validation set\n",
        "4. Repeat steps 1-3 with different hyperparameters, many times\n",
        "5. Pick the model with the lowest validation loss as this is now our \"best\" model\n",
        "6. Run the chosen model to see error with the testing set\n",
        "\n",
        "We'll now use `train_test_split` to split our data into a training set and a validation/testing set for both `X` and `y`. Then, we'll further split the validation/testing set into separate sets."
      ]
    },
    {
      "cell_type": "code",
      "metadata": {
        "id": "zK4ZaYqxEzJK"
      },
      "source": [
        "from sklearn.model_selection import train_test_split\n",
        "\n",
        "X_train, X_val_and_test, Y_train, Y_val_and_test = train_test_split(X_scale, y, test_size=0.3)\n",
        "\n",
        "X_val, X_test, Y_val, Y_test = train_test_split(X_val_and_test, Y_val_and_test, test_size=0.5)"
      ],
      "execution_count": 11,
      "outputs": []
    },
    {
      "cell_type": "code",
      "metadata": {
        "colab": {
          "base_uri": "https://localhost:8080/"
        },
        "id": "BTGB6cqdFx_-",
        "outputId": "eecc4e50-e02e-4f86-e080-74467a4cddcc"
      },
      "source": [
        "X_train"
      ],
      "execution_count": 12,
      "outputs": [
        {
          "output_type": "execute_result",
          "data": {
            "text/plain": [
              "array([[0.0132277 , 0.22222222, 0.625     , ..., 0.25      , 0.        ,\n",
              "        0.        ],\n",
              "       [0.03563533, 0.66666667, 0.5       , ..., 0.5       , 0.        ,\n",
              "        0.37165021],\n",
              "       [0.0438337 , 0.77777778, 0.5       , ..., 0.58333333, 0.33333333,\n",
              "        0.38152327],\n",
              "       ...,\n",
              "       [0.01612564, 0.77777778, 0.5       , ..., 0.25      , 0.33333333,\n",
              "        0.37940762],\n",
              "       [0.02675454, 0.44444444, 0.5       , ..., 0.25      , 0.        ,\n",
              "        0.31734838],\n",
              "       [0.03514922, 0.44444444, 0.625     , ..., 0.41666667, 0.        ,\n",
              "        0.32157969]])"
            ]
          },
          "metadata": {
            "tags": []
          },
          "execution_count": 12
        }
      ]
    },
    {
      "cell_type": "code",
      "metadata": {
        "colab": {
          "base_uri": "https://localhost:8080/"
        },
        "id": "LHeRs5HtFzTy",
        "outputId": "76e9203f-b0dd-4767-8921-d87f6754f11e"
      },
      "source": [
        "Y_train"
      ],
      "execution_count": 13,
      "outputs": [
        {
          "output_type": "execute_result",
          "data": {
            "text/plain": [
              "array([0, 1, 1, ..., 1, 0, 0])"
            ]
          },
          "metadata": {
            "tags": []
          },
          "execution_count": 13
        }
      ]
    },
    {
      "cell_type": "code",
      "metadata": {
        "colab": {
          "base_uri": "https://localhost:8080/"
        },
        "id": "Jb4ePiMMF067",
        "outputId": "da772db9-caf5-42fb-c82f-aece3cd29cad"
      },
      "source": [
        "X_test"
      ],
      "execution_count": 14,
      "outputs": [
        {
          "output_type": "execute_result",
          "data": {
            "text/plain": [
              "array([[0.07403772, 0.33333333, 0.625     , ..., 0.33333333, 0.        ,\n",
              "        0.20028209],\n",
              "       [0.02196826, 0.44444444, 0.5       , ..., 0.25      , 0.        ,\n",
              "        0.17630465],\n",
              "       [0.02757718, 0.55555556, 0.5       , ..., 0.25      , 0.        ,\n",
              "        0.40338505],\n",
              "       ...,\n",
              "       [0.03352263, 0.44444444, 0.5       , ..., 0.25      , 0.        ,\n",
              "        0.36389281],\n",
              "       [0.06106242, 0.66666667, 0.5       , ..., 0.41666667, 0.33333333,\n",
              "        0.32016925],\n",
              "       [0.03810792, 0.66666667, 0.75      , ..., 0.41666667, 0.        ,\n",
              "        0.32228491]])"
            ]
          },
          "metadata": {
            "tags": []
          },
          "execution_count": 14
        }
      ]
    },
    {
      "cell_type": "code",
      "metadata": {
        "colab": {
          "base_uri": "https://localhost:8080/"
        },
        "id": "O3MLsl6iF2Pc",
        "outputId": "06e2cfac-c816-4eee-dba1-89e8e169e5fa"
      },
      "source": [
        "Y_test"
      ],
      "execution_count": 15,
      "outputs": [
        {
          "output_type": "execute_result",
          "data": {
            "text/plain": [
              "array([0, 0, 1, 1, 0, 1, 0, 1, 1, 0, 0, 1, 1, 0, 1, 1, 1, 0, 0, 0, 1, 1,\n",
              "       1, 0, 0, 0, 0, 0, 1, 1, 0, 1, 1, 0, 1, 1, 0, 1, 1, 0, 0, 1, 0, 0,\n",
              "       0, 0, 0, 1, 0, 1, 1, 0, 1, 1, 1, 0, 1, 0, 1, 0, 1, 1, 0, 1, 0, 1,\n",
              "       1, 1, 1, 1, 0, 1, 1, 0, 1, 0, 0, 1, 1, 0, 0, 0, 0, 1, 1, 0, 1, 1,\n",
              "       1, 0, 1, 1, 1, 1, 1, 0, 0, 0, 1, 1, 0, 1, 0, 1, 0, 0, 0, 0, 0, 0,\n",
              "       1, 0, 1, 0, 1, 1, 1, 1, 0, 1, 0, 1, 0, 1, 0, 0, 1, 0, 0, 1, 0, 1,\n",
              "       1, 0, 1, 0, 0, 0, 1, 1, 0, 1, 0, 0, 1, 1, 1, 0, 1, 0, 1, 0, 0, 1,\n",
              "       0, 1, 1, 1, 0, 1, 1, 0, 0, 1, 0, 1, 0, 1, 0, 0, 1, 1, 1, 0, 1, 0,\n",
              "       0, 1, 1, 1, 1, 0, 0, 0, 0, 0, 0, 0, 1, 1, 1, 0, 1, 1, 0, 1, 0, 0,\n",
              "       0, 0, 0, 1, 0, 0, 0, 0, 0, 0, 0, 0, 1, 1, 1, 0, 1, 0, 0, 1, 1])"
            ]
          },
          "metadata": {
            "tags": []
          },
          "execution_count": 15
        }
      ]
    },
    {
      "cell_type": "code",
      "metadata": {
        "colab": {
          "base_uri": "https://localhost:8080/"
        },
        "id": "qvZXZGnVF3nv",
        "outputId": "70db7c2e-d89d-4b34-ffa5-39cd32748647"
      },
      "source": [
        "X_val"
      ],
      "execution_count": 16,
      "outputs": [
        {
          "output_type": "execute_result",
          "data": {
            "text/plain": [
              "array([[0.03541564, 0.33333333, 0.5       , ..., 0.33333333, 0.        ,\n",
              "        0.27926657],\n",
              "       [0.04499755, 0.77777778, 0.5       , ..., 0.5       , 0.33333333,\n",
              "        0.5190409 ],\n",
              "       [0.17669962, 0.66666667, 0.75      , ..., 0.25      , 0.66666667,\n",
              "        0.30959097],\n",
              "       ...,\n",
              "       [0.03133516, 0.77777778, 0.5       , ..., 0.5       , 0.        ,\n",
              "        0.38928068],\n",
              "       [0.00638014, 0.44444444, 0.625     , ..., 0.16666667, 0.33333333,\n",
              "        0.23695346],\n",
              "       [0.03757975, 0.33333333, 0.625     , ..., 0.16666667, 0.        ,\n",
              "        0.16502116]])"
            ]
          },
          "metadata": {
            "tags": []
          },
          "execution_count": 16
        }
      ]
    },
    {
      "cell_type": "code",
      "metadata": {
        "colab": {
          "base_uri": "https://localhost:8080/"
        },
        "id": "VKKWLi4qF5Uw",
        "outputId": "e0c067be-04b5-4342-eed6-9eacf19ae7ad"
      },
      "source": [
        "Y_val"
      ],
      "execution_count": 17,
      "outputs": [
        {
          "output_type": "execute_result",
          "data": {
            "text/plain": [
              "array([0, 1, 1, 1, 1, 1, 1, 1, 0, 1, 1, 0, 1, 0, 1, 0, 0, 0, 1, 0, 1, 0,\n",
              "       1, 0, 0, 1, 0, 1, 0, 1, 1, 0, 1, 0, 0, 0, 1, 1, 1, 1, 1, 0, 0, 1,\n",
              "       0, 1, 1, 1, 1, 1, 0, 1, 1, 0, 1, 1, 1, 0, 1, 0, 0, 1, 1, 0, 1, 0,\n",
              "       1, 0, 1, 1, 0, 1, 1, 0, 1, 0, 0, 0, 0, 0, 1, 1, 1, 1, 1, 0, 0, 1,\n",
              "       0, 1, 0, 1, 1, 1, 1, 0, 1, 0, 1, 0, 0, 0, 1, 1, 0, 0, 1, 1, 1, 1,\n",
              "       0, 0, 0, 1, 0, 1, 1, 1, 0, 0, 0, 0, 0, 0, 1, 0, 0, 0, 1, 1, 0, 1,\n",
              "       0, 0, 0, 0, 0, 0, 0, 1, 1, 0, 1, 0, 1, 1, 0, 0, 0, 1, 1, 0, 0, 0,\n",
              "       0, 0, 0, 1, 1, 1, 1, 1, 1, 0, 1, 1, 0, 1, 0, 1, 0, 1, 0, 0, 0, 1,\n",
              "       1, 0, 1, 1, 1, 0, 1, 0, 1, 0, 0, 1, 0, 1, 1, 0, 1, 0, 0, 0, 0, 1,\n",
              "       0, 0, 0, 1, 1, 1, 0, 1, 0, 0, 1, 1, 1, 0, 0, 0, 0, 0, 1, 0, 0])"
            ]
          },
          "metadata": {
            "tags": []
          },
          "execution_count": 17
        }
      ]
    },
    {
      "cell_type": "code",
      "metadata": {
        "colab": {
          "base_uri": "https://localhost:8080/"
        },
        "id": "nF0WCDZJF9kn",
        "outputId": "0136ecde-82ea-46dc-9e6d-1a5cf137cf61"
      },
      "source": [
        "print(X_train.shape, X_val.shape, X_test.shape, Y_train.shape, Y_val.shape, Y_test.shape)"
      ],
      "execution_count": 18,
      "outputs": [
        {
          "output_type": "stream",
          "text": [
            "(1022, 10) (219, 10) (219, 10) (1022,) (219,) (219,)\n"
          ],
          "name": "stdout"
        }
      ]
    },
    {
      "cell_type": "markdown",
      "metadata": {
        "id": "mS1aosNiGBU7"
      },
      "source": [
        "Now, we can begin building the actual model"
      ]
    },
    {
      "cell_type": "markdown",
      "metadata": {
        "id": "PAyA3-JUGDKn"
      },
      "source": [
        "## Building and Training the Convolutional Neural Network\n",
        "\n",
        "### Setting up Model Architecture\n",
        "\n",
        "We'll first set up an architecture with defined hidden layers and an output layer. We'll use `Keras` in Tensorflow to help with this by utilizing the `Sequential()` model."
      ]
    },
    {
      "cell_type": "code",
      "metadata": {
        "id": "La4FVZcHGPOt"
      },
      "source": [
        "from keras.models import Sequential\n",
        "from keras.layers import Dense\n",
        "from keras.layers import Dropout\n",
        "from keras import regularizers"
      ],
      "execution_count": 19,
      "outputs": []
    },
    {
      "cell_type": "code",
      "metadata": {
        "id": "zJRzEtneGRF3"
      },
      "source": [
        "model = Sequential([\n",
        "    Dense(125, activation='relu', kernel_regularizer=regularizers.l2(0.01)),\n",
        "    Dropout(0.3),\n",
        "    Dense(50, activation='relu', kernel_regularizer=regularizers.l2(0.01)),\n",
        "    Dropout(0.3),\n",
        "    Dense(25, activation='relu', kernel_regularizer=regularizers.l2(0.01)),\n",
        "    Dropout(0.3),\n",
        "    Dense(1, activation='sigmoid')\n",
        "])"
      ],
      "execution_count": 20,
      "outputs": []
    },
    {
      "cell_type": "markdown",
      "metadata": {
        "id": "DssMHxTgGn1Y"
      },
      "source": [
        "Above, I've defined a model architecture with 3 hidden layers layers of 125, 50, and 25 neurons. All have the activation function of `ReLu`. I've defined the input shape for the first layer to `(10,)`, because we have 10 input features in our `X` sets. We recall that `Dense` means a fully-connected layer.\n",
        "\n",
        "Our last layer utilizes the `sigmoid` activation function with 1 output neuron. We only need 1 output neuron as we are doing binary classification. If we were conducting multi-class classification, we'd need the equivalent number of output neurons to classes.\n",
        "\n",
        "We also use dropout and l2 regularization to try to prevent overfitting."
      ]
    },
    {
      "cell_type": "markdown",
      "metadata": {
        "id": "hSRSmhcIHTQR"
      },
      "source": [
        "### Compiling the Model\n",
        "\n",
        "Now, we've established the model architecture and now need to find the best numbers for it (parameters) for it to perform well. Before we train, we have to tell the model:\n",
        "\n",
        "- Which algorithm to use in the optimization\n",
        "- What loss function we would like to use\n",
        "- What metrics we want to track apart from the loss\n",
        "\n",
        "We can do this by <i>compiling</i> the model with the `model.compile()` function."
      ]
    },
    {
      "cell_type": "code",
      "metadata": {
        "id": "2f9PNWoZHoYW"
      },
      "source": [
        "model.compile(optimizer='adam',\n",
        "              loss='binary_crossentropy',\n",
        "              metrics=['accuracy'])"
      ],
      "execution_count": 21,
      "outputs": []
    },
    {
      "cell_type": "markdown",
      "metadata": {
        "id": "40EpJhbCHtr4"
      },
      "source": [
        "I've specified `adam`, the industry standard for the optimizer, `binary_crossentropy` for the loss function, and asked the model to keep track of `accuracy` in addition to loss."
      ]
    },
    {
      "cell_type": "markdown",
      "metadata": {
        "id": "eLxVNyhhIHuZ"
      },
      "source": [
        "### Fitting the Model\n",
        "\n",
        "We can now train the model by calling the `fit` method on the model and specifying parameters such as `batch_size`, number of `epochs`, and the validation set.\n",
        "\n",
        "I've chosen a batch size of 32 and 100 epochs."
      ]
    },
    {
      "cell_type": "code",
      "metadata": {
        "colab": {
          "base_uri": "https://localhost:8080/"
        },
        "id": "yfoKVq1WIEWZ",
        "outputId": "b523b038-03da-4485-cf74-dc56b339a3de"
      },
      "source": [
        "hist = model.fit(X_train, Y_train,\n",
        "          batch_size=32, epochs=100,\n",
        "          validation_data=(X_val, Y_val))"
      ],
      "execution_count": 22,
      "outputs": [
        {
          "output_type": "stream",
          "text": [
            "Epoch 1/100\n",
            "32/32 [==============================] - 3s 13ms/step - loss: 1.7918 - accuracy: 0.5781 - val_loss: 1.4784 - val_accuracy: 0.6164\n",
            "Epoch 2/100\n",
            "32/32 [==============================] - 0s 4ms/step - loss: 1.3980 - accuracy: 0.6709 - val_loss: 1.1702 - val_accuracy: 0.7900\n",
            "Epoch 3/100\n",
            "32/32 [==============================] - 0s 4ms/step - loss: 1.1202 - accuracy: 0.7330 - val_loss: 0.9554 - val_accuracy: 0.7580\n",
            "Epoch 4/100\n",
            "32/32 [==============================] - 0s 4ms/step - loss: 0.9068 - accuracy: 0.7879 - val_loss: 0.7885 - val_accuracy: 0.8082\n",
            "Epoch 5/100\n",
            "32/32 [==============================] - 0s 4ms/step - loss: 0.7462 - accuracy: 0.8307 - val_loss: 0.6819 - val_accuracy: 0.8219\n",
            "Epoch 6/100\n",
            "32/32 [==============================] - 0s 4ms/step - loss: 0.6233 - accuracy: 0.8518 - val_loss: 0.6199 - val_accuracy: 0.8402\n",
            "Epoch 7/100\n",
            "32/32 [==============================] - 0s 4ms/step - loss: 0.5945 - accuracy: 0.8432 - val_loss: 0.5843 - val_accuracy: 0.8447\n",
            "Epoch 8/100\n",
            "32/32 [==============================] - 0s 4ms/step - loss: 0.5206 - accuracy: 0.8626 - val_loss: 0.5508 - val_accuracy: 0.8539\n",
            "Epoch 9/100\n",
            "32/32 [==============================] - 0s 4ms/step - loss: 0.5570 - accuracy: 0.8386 - val_loss: 0.5475 - val_accuracy: 0.8311\n",
            "Epoch 10/100\n",
            "32/32 [==============================] - 0s 4ms/step - loss: 0.4764 - accuracy: 0.8753 - val_loss: 0.5123 - val_accuracy: 0.8584\n",
            "Epoch 11/100\n",
            "32/32 [==============================] - 0s 4ms/step - loss: 0.4776 - accuracy: 0.8615 - val_loss: 0.5022 - val_accuracy: 0.8721\n",
            "Epoch 12/100\n",
            "32/32 [==============================] - 0s 4ms/step - loss: 0.4538 - accuracy: 0.8620 - val_loss: 0.4917 - val_accuracy: 0.8721\n",
            "Epoch 13/100\n",
            "32/32 [==============================] - 0s 4ms/step - loss: 0.4573 - accuracy: 0.8628 - val_loss: 0.4811 - val_accuracy: 0.8721\n",
            "Epoch 14/100\n",
            "32/32 [==============================] - 0s 4ms/step - loss: 0.4458 - accuracy: 0.8813 - val_loss: 0.4746 - val_accuracy: 0.8767\n",
            "Epoch 15/100\n",
            "32/32 [==============================] - 0s 4ms/step - loss: 0.4655 - accuracy: 0.8390 - val_loss: 0.4693 - val_accuracy: 0.8767\n",
            "Epoch 16/100\n",
            "32/32 [==============================] - 0s 4ms/step - loss: 0.4465 - accuracy: 0.8679 - val_loss: 0.4636 - val_accuracy: 0.8767\n",
            "Epoch 17/100\n",
            "32/32 [==============================] - 0s 4ms/step - loss: 0.4526 - accuracy: 0.8456 - val_loss: 0.4658 - val_accuracy: 0.8630\n",
            "Epoch 18/100\n",
            "32/32 [==============================] - 0s 4ms/step - loss: 0.4070 - accuracy: 0.8923 - val_loss: 0.4705 - val_accuracy: 0.8630\n",
            "Epoch 19/100\n",
            "32/32 [==============================] - 0s 4ms/step - loss: 0.4429 - accuracy: 0.8621 - val_loss: 0.4469 - val_accuracy: 0.8813\n",
            "Epoch 20/100\n",
            "32/32 [==============================] - 0s 4ms/step - loss: 0.3960 - accuracy: 0.8760 - val_loss: 0.4422 - val_accuracy: 0.8813\n",
            "Epoch 21/100\n",
            "32/32 [==============================] - 0s 3ms/step - loss: 0.3961 - accuracy: 0.8794 - val_loss: 0.4399 - val_accuracy: 0.8813\n",
            "Epoch 22/100\n",
            "32/32 [==============================] - 0s 4ms/step - loss: 0.4016 - accuracy: 0.8805 - val_loss: 0.4547 - val_accuracy: 0.8721\n",
            "Epoch 23/100\n",
            "32/32 [==============================] - 0s 4ms/step - loss: 0.3982 - accuracy: 0.8884 - val_loss: 0.4351 - val_accuracy: 0.8813\n",
            "Epoch 24/100\n",
            "32/32 [==============================] - 0s 4ms/step - loss: 0.3713 - accuracy: 0.8937 - val_loss: 0.4344 - val_accuracy: 0.8858\n",
            "Epoch 25/100\n",
            "32/32 [==============================] - 0s 3ms/step - loss: 0.3871 - accuracy: 0.8984 - val_loss: 0.4546 - val_accuracy: 0.8539\n",
            "Epoch 26/100\n",
            "32/32 [==============================] - 0s 4ms/step - loss: 0.3915 - accuracy: 0.8657 - val_loss: 0.4266 - val_accuracy: 0.8813\n",
            "Epoch 27/100\n",
            "32/32 [==============================] - 0s 4ms/step - loss: 0.3934 - accuracy: 0.8739 - val_loss: 0.4433 - val_accuracy: 0.8539\n",
            "Epoch 28/100\n",
            "32/32 [==============================] - 0s 4ms/step - loss: 0.3837 - accuracy: 0.8722 - val_loss: 0.4220 - val_accuracy: 0.8858\n",
            "Epoch 29/100\n",
            "32/32 [==============================] - 0s 4ms/step - loss: 0.3755 - accuracy: 0.8682 - val_loss: 0.4383 - val_accuracy: 0.8630\n",
            "Epoch 30/100\n",
            "32/32 [==============================] - 0s 4ms/step - loss: 0.3745 - accuracy: 0.8982 - val_loss: 0.4359 - val_accuracy: 0.8858\n",
            "Epoch 31/100\n",
            "32/32 [==============================] - 0s 4ms/step - loss: 0.3949 - accuracy: 0.8865 - val_loss: 0.4529 - val_accuracy: 0.8447\n",
            "Epoch 32/100\n",
            "32/32 [==============================] - 0s 4ms/step - loss: 0.3798 - accuracy: 0.8798 - val_loss: 0.4303 - val_accuracy: 0.8721\n",
            "Epoch 33/100\n",
            "32/32 [==============================] - 0s 3ms/step - loss: 0.3768 - accuracy: 0.8740 - val_loss: 0.4185 - val_accuracy: 0.8858\n",
            "Epoch 34/100\n",
            "32/32 [==============================] - 0s 3ms/step - loss: 0.3894 - accuracy: 0.8661 - val_loss: 0.4247 - val_accuracy: 0.8858\n",
            "Epoch 35/100\n",
            "32/32 [==============================] - 0s 3ms/step - loss: 0.3865 - accuracy: 0.8696 - val_loss: 0.4145 - val_accuracy: 0.8813\n",
            "Epoch 36/100\n",
            "32/32 [==============================] - 0s 4ms/step - loss: 0.3612 - accuracy: 0.8747 - val_loss: 0.4274 - val_accuracy: 0.8813\n",
            "Epoch 37/100\n",
            "32/32 [==============================] - 0s 3ms/step - loss: 0.3654 - accuracy: 0.8903 - val_loss: 0.4486 - val_accuracy: 0.8493\n",
            "Epoch 38/100\n",
            "32/32 [==============================] - 0s 3ms/step - loss: 0.3813 - accuracy: 0.8667 - val_loss: 0.4124 - val_accuracy: 0.8813\n",
            "Epoch 39/100\n",
            "32/32 [==============================] - 0s 4ms/step - loss: 0.3781 - accuracy: 0.8825 - val_loss: 0.4140 - val_accuracy: 0.8813\n",
            "Epoch 40/100\n",
            "32/32 [==============================] - 0s 3ms/step - loss: 0.3759 - accuracy: 0.8736 - val_loss: 0.4124 - val_accuracy: 0.8767\n",
            "Epoch 41/100\n",
            "32/32 [==============================] - 0s 3ms/step - loss: 0.3580 - accuracy: 0.8930 - val_loss: 0.4196 - val_accuracy: 0.8721\n",
            "Epoch 42/100\n",
            "32/32 [==============================] - 0s 4ms/step - loss: 0.3649 - accuracy: 0.8804 - val_loss: 0.4098 - val_accuracy: 0.8904\n",
            "Epoch 43/100\n",
            "32/32 [==============================] - 0s 4ms/step - loss: 0.3830 - accuracy: 0.8755 - val_loss: 0.4307 - val_accuracy: 0.8813\n",
            "Epoch 44/100\n",
            "32/32 [==============================] - 0s 4ms/step - loss: 0.3683 - accuracy: 0.8764 - val_loss: 0.4170 - val_accuracy: 0.8721\n",
            "Epoch 45/100\n",
            "32/32 [==============================] - 0s 4ms/step - loss: 0.3679 - accuracy: 0.8752 - val_loss: 0.4074 - val_accuracy: 0.8721\n",
            "Epoch 46/100\n",
            "32/32 [==============================] - 0s 3ms/step - loss: 0.3754 - accuracy: 0.8774 - val_loss: 0.4141 - val_accuracy: 0.8813\n",
            "Epoch 47/100\n",
            "32/32 [==============================] - 0s 3ms/step - loss: 0.3432 - accuracy: 0.8910 - val_loss: 0.4150 - val_accuracy: 0.8767\n",
            "Epoch 48/100\n",
            "32/32 [==============================] - 0s 3ms/step - loss: 0.3549 - accuracy: 0.8912 - val_loss: 0.4050 - val_accuracy: 0.8813\n",
            "Epoch 49/100\n",
            "32/32 [==============================] - 0s 3ms/step - loss: 0.3794 - accuracy: 0.8574 - val_loss: 0.4031 - val_accuracy: 0.8813\n",
            "Epoch 50/100\n",
            "32/32 [==============================] - 0s 3ms/step - loss: 0.3627 - accuracy: 0.8807 - val_loss: 0.4148 - val_accuracy: 0.8767\n",
            "Epoch 51/100\n",
            "32/32 [==============================] - 0s 4ms/step - loss: 0.3683 - accuracy: 0.8859 - val_loss: 0.4057 - val_accuracy: 0.8721\n",
            "Epoch 52/100\n",
            "32/32 [==============================] - 0s 4ms/step - loss: 0.3597 - accuracy: 0.8832 - val_loss: 0.4150 - val_accuracy: 0.8813\n",
            "Epoch 53/100\n",
            "32/32 [==============================] - 0s 4ms/step - loss: 0.3678 - accuracy: 0.8720 - val_loss: 0.4058 - val_accuracy: 0.8767\n",
            "Epoch 54/100\n",
            "32/32 [==============================] - 0s 3ms/step - loss: 0.3569 - accuracy: 0.8762 - val_loss: 0.4022 - val_accuracy: 0.8767\n",
            "Epoch 55/100\n",
            "32/32 [==============================] - 0s 3ms/step - loss: 0.3654 - accuracy: 0.8921 - val_loss: 0.4051 - val_accuracy: 0.8767\n",
            "Epoch 56/100\n",
            "32/32 [==============================] - 0s 3ms/step - loss: 0.3260 - accuracy: 0.9001 - val_loss: 0.4040 - val_accuracy: 0.8904\n",
            "Epoch 57/100\n",
            "32/32 [==============================] - 0s 4ms/step - loss: 0.3591 - accuracy: 0.8900 - val_loss: 0.4011 - val_accuracy: 0.8813\n",
            "Epoch 58/100\n",
            "32/32 [==============================] - 0s 4ms/step - loss: 0.3523 - accuracy: 0.8862 - val_loss: 0.4031 - val_accuracy: 0.8813\n",
            "Epoch 59/100\n",
            "32/32 [==============================] - 0s 4ms/step - loss: 0.3480 - accuracy: 0.8830 - val_loss: 0.4147 - val_accuracy: 0.8721\n",
            "Epoch 60/100\n",
            "32/32 [==============================] - 0s 3ms/step - loss: 0.3548 - accuracy: 0.8841 - val_loss: 0.4242 - val_accuracy: 0.8630\n",
            "Epoch 61/100\n",
            "32/32 [==============================] - 0s 4ms/step - loss: 0.3306 - accuracy: 0.8909 - val_loss: 0.4032 - val_accuracy: 0.8858\n",
            "Epoch 62/100\n",
            "32/32 [==============================] - 0s 4ms/step - loss: 0.3730 - accuracy: 0.8756 - val_loss: 0.4012 - val_accuracy: 0.8767\n",
            "Epoch 63/100\n",
            "32/32 [==============================] - 0s 4ms/step - loss: 0.3449 - accuracy: 0.8784 - val_loss: 0.4158 - val_accuracy: 0.8767\n",
            "Epoch 64/100\n",
            "32/32 [==============================] - 0s 5ms/step - loss: 0.3465 - accuracy: 0.8842 - val_loss: 0.4030 - val_accuracy: 0.8767\n",
            "Epoch 65/100\n",
            "32/32 [==============================] - 0s 4ms/step - loss: 0.3785 - accuracy: 0.8703 - val_loss: 0.4058 - val_accuracy: 0.8721\n",
            "Epoch 66/100\n",
            "32/32 [==============================] - 0s 4ms/step - loss: 0.3650 - accuracy: 0.8877 - val_loss: 0.4089 - val_accuracy: 0.8767\n",
            "Epoch 67/100\n",
            "32/32 [==============================] - 0s 3ms/step - loss: 0.3797 - accuracy: 0.8618 - val_loss: 0.4023 - val_accuracy: 0.8813\n",
            "Epoch 68/100\n",
            "32/32 [==============================] - 0s 3ms/step - loss: 0.3532 - accuracy: 0.8764 - val_loss: 0.3989 - val_accuracy: 0.8767\n",
            "Epoch 69/100\n",
            "32/32 [==============================] - 0s 3ms/step - loss: 0.3417 - accuracy: 0.8813 - val_loss: 0.4086 - val_accuracy: 0.8721\n",
            "Epoch 70/100\n",
            "32/32 [==============================] - 0s 3ms/step - loss: 0.3866 - accuracy: 0.8610 - val_loss: 0.4123 - val_accuracy: 0.8721\n",
            "Epoch 71/100\n",
            "32/32 [==============================] - 0s 3ms/step - loss: 0.3514 - accuracy: 0.8703 - val_loss: 0.4166 - val_accuracy: 0.8767\n",
            "Epoch 72/100\n",
            "32/32 [==============================] - 0s 4ms/step - loss: 0.3849 - accuracy: 0.8618 - val_loss: 0.4056 - val_accuracy: 0.8721\n",
            "Epoch 73/100\n",
            "32/32 [==============================] - 0s 3ms/step - loss: 0.3571 - accuracy: 0.8786 - val_loss: 0.4025 - val_accuracy: 0.8767\n",
            "Epoch 74/100\n",
            "32/32 [==============================] - 0s 4ms/step - loss: 0.3582 - accuracy: 0.8791 - val_loss: 0.3986 - val_accuracy: 0.8813\n",
            "Epoch 75/100\n",
            "32/32 [==============================] - 0s 3ms/step - loss: 0.3477 - accuracy: 0.9039 - val_loss: 0.4076 - val_accuracy: 0.8858\n",
            "Epoch 76/100\n",
            "32/32 [==============================] - 0s 3ms/step - loss: 0.3775 - accuracy: 0.8699 - val_loss: 0.3960 - val_accuracy: 0.8767\n",
            "Epoch 77/100\n",
            "32/32 [==============================] - 0s 4ms/step - loss: 0.3257 - accuracy: 0.8947 - val_loss: 0.3983 - val_accuracy: 0.8858\n",
            "Epoch 78/100\n",
            "32/32 [==============================] - 0s 3ms/step - loss: 0.3401 - accuracy: 0.8992 - val_loss: 0.4178 - val_accuracy: 0.8584\n",
            "Epoch 79/100\n",
            "32/32 [==============================] - 0s 3ms/step - loss: 0.3902 - accuracy: 0.8616 - val_loss: 0.4040 - val_accuracy: 0.8721\n",
            "Epoch 80/100\n",
            "32/32 [==============================] - 0s 4ms/step - loss: 0.3369 - accuracy: 0.8862 - val_loss: 0.3950 - val_accuracy: 0.8858\n",
            "Epoch 81/100\n",
            "32/32 [==============================] - 0s 4ms/step - loss: 0.3478 - accuracy: 0.8862 - val_loss: 0.3944 - val_accuracy: 0.8767\n",
            "Epoch 82/100\n",
            "32/32 [==============================] - 0s 4ms/step - loss: 0.3378 - accuracy: 0.8909 - val_loss: 0.4169 - val_accuracy: 0.8630\n",
            "Epoch 83/100\n",
            "32/32 [==============================] - 0s 4ms/step - loss: 0.3548 - accuracy: 0.8785 - val_loss: 0.3976 - val_accuracy: 0.8767\n",
            "Epoch 84/100\n",
            "32/32 [==============================] - 0s 4ms/step - loss: 0.3360 - accuracy: 0.8912 - val_loss: 0.3986 - val_accuracy: 0.8767\n",
            "Epoch 85/100\n",
            "32/32 [==============================] - 0s 4ms/step - loss: 0.3368 - accuracy: 0.8913 - val_loss: 0.3958 - val_accuracy: 0.8767\n",
            "Epoch 86/100\n",
            "32/32 [==============================] - 0s 4ms/step - loss: 0.3271 - accuracy: 0.8958 - val_loss: 0.4045 - val_accuracy: 0.8721\n",
            "Epoch 87/100\n",
            "32/32 [==============================] - 0s 3ms/step - loss: 0.3237 - accuracy: 0.8861 - val_loss: 0.3993 - val_accuracy: 0.8813\n",
            "Epoch 88/100\n",
            "32/32 [==============================] - 0s 4ms/step - loss: 0.3637 - accuracy: 0.8749 - val_loss: 0.4009 - val_accuracy: 0.8721\n",
            "Epoch 89/100\n",
            "32/32 [==============================] - 0s 4ms/step - loss: 0.3696 - accuracy: 0.8567 - val_loss: 0.4000 - val_accuracy: 0.8813\n",
            "Epoch 90/100\n",
            "32/32 [==============================] - 0s 4ms/step - loss: 0.3411 - accuracy: 0.8876 - val_loss: 0.4015 - val_accuracy: 0.8721\n",
            "Epoch 91/100\n",
            "32/32 [==============================] - 0s 4ms/step - loss: 0.3461 - accuracy: 0.8908 - val_loss: 0.4008 - val_accuracy: 0.8858\n",
            "Epoch 92/100\n",
            "32/32 [==============================] - 0s 3ms/step - loss: 0.3259 - accuracy: 0.9110 - val_loss: 0.3971 - val_accuracy: 0.8767\n",
            "Epoch 93/100\n",
            "32/32 [==============================] - 0s 3ms/step - loss: 0.3673 - accuracy: 0.8741 - val_loss: 0.3950 - val_accuracy: 0.8813\n",
            "Epoch 94/100\n",
            "32/32 [==============================] - 0s 4ms/step - loss: 0.3463 - accuracy: 0.8853 - val_loss: 0.3974 - val_accuracy: 0.8721\n",
            "Epoch 95/100\n",
            "32/32 [==============================] - 0s 3ms/step - loss: 0.3411 - accuracy: 0.8845 - val_loss: 0.4011 - val_accuracy: 0.8721\n",
            "Epoch 96/100\n",
            "32/32 [==============================] - 0s 3ms/step - loss: 0.3555 - accuracy: 0.8910 - val_loss: 0.3933 - val_accuracy: 0.8767\n",
            "Epoch 97/100\n",
            "32/32 [==============================] - 0s 3ms/step - loss: 0.3350 - accuracy: 0.8865 - val_loss: 0.3923 - val_accuracy: 0.8858\n",
            "Epoch 98/100\n",
            "32/32 [==============================] - 0s 4ms/step - loss: 0.3422 - accuracy: 0.8969 - val_loss: 0.3922 - val_accuracy: 0.8813\n",
            "Epoch 99/100\n",
            "32/32 [==============================] - 0s 3ms/step - loss: 0.3078 - accuracy: 0.9194 - val_loss: 0.3918 - val_accuracy: 0.8813\n",
            "Epoch 100/100\n",
            "32/32 [==============================] - 0s 3ms/step - loss: 0.3494 - accuracy: 0.8807 - val_loss: 0.3932 - val_accuracy: 0.8767\n"
          ],
          "name": "stdout"
        }
      ]
    },
    {
      "cell_type": "markdown",
      "metadata": {
        "id": "yZWcfViJJgeJ"
      },
      "source": [
        "## Evaluating our Model on the Test Set\n",
        "\n",
        "Now, after we've trained our model, we can evaluate it on our original test set. "
      ]
    },
    {
      "cell_type": "code",
      "metadata": {
        "colab": {
          "base_uri": "https://localhost:8080/"
        },
        "id": "dSII_kp_JgJ6",
        "outputId": "e62ba843-af61-4518-ee01-b3cc4c831e0e"
      },
      "source": [
        "model_loss = model.evaluate(X_test, Y_test)[0]\n",
        "model_accuracy = model.evaluate(X_test, Y_test)[1]\n",
        "\n",
        "print(\"\\n\", \"The loss of our model is: \", model_loss, \"\\n\")\n",
        "print(\"The accuracy of our model is: \", model_accuracy)"
      ],
      "execution_count": 23,
      "outputs": [
        {
          "output_type": "stream",
          "text": [
            "7/7 [==============================] - 0s 2ms/step - loss: 0.3097 - accuracy: 0.9178\n",
            "7/7 [==============================] - 0s 2ms/step - loss: 0.3097 - accuracy: 0.9178\n",
            "\n",
            " The loss of our model is:  0.30974236130714417 \n",
            "\n",
            "The accuracy of our model is:  0.9178082346916199\n"
          ],
          "name": "stdout"
        }
      ]
    },
    {
      "cell_type": "markdown",
      "metadata": {
        "id": "2FtpVhicJ8QL"
      },
      "source": [
        "## Visualizing Loss and Accuracy\n",
        "\n",
        "We can visualize loss and accuracy to verify that we are not overfitting. We can do this by using `matplotlib` and utilizing the `.history` attribute of our result when we fit the model `hist`."
      ]
    },
    {
      "cell_type": "code",
      "metadata": {
        "colab": {
          "base_uri": "https://localhost:8080/",
          "height": 298
        },
        "id": "8idLjt7xKD9V",
        "outputId": "94d63930-1117-401b-e558-b7ce97e7611b"
      },
      "source": [
        "import matplotlib.pyplot as plt\n",
        "\n",
        "plt.plot(hist.history['loss'])\n",
        "plt.plot(hist.history['val_loss'])\n",
        "plt.title('Model loss')\n",
        "plt.ylabel('Loss')\n",
        "plt.xlabel('Epoch')\n",
        "plt.legend(['Train', 'Val'], loc='upper right')\n",
        "plt.grid()\n",
        "plt.show()"
      ],
      "execution_count": 28,
      "outputs": [
        {
          "output_type": "display_data",
          "data": {
            "image/png": "[encoded data removed]",
            "text/plain": [
              "<Figure size 432x288 with 1 Axes>"
            ]
          },
          "metadata": {
            "tags": [],
            "needs_background": "light"
          }
        }
      ]
    },
    {
      "cell_type": "markdown",
      "metadata": {
        "id": "r4l0UtE9Kagi"
      },
      "source": [
        "We can also plot our training and validation accuracy."
      ]
    },
    {
      "cell_type": "code",
      "metadata": {
        "colab": {
          "base_uri": "https://localhost:8080/",
          "height": 294
        },
        "id": "cHH3X7zoKgYm",
        "outputId": "63f97587-3e53-4dbe-c322-a6eaca6c2254"
      },
      "source": [
        "plt.plot(hist.history['accuracy'])\n",
        "plt.plot(hist.history['val_accuracy'])\n",
        "plt.title('Model accuracy')\n",
        "plt.ylabel('Accuracy')\n",
        "plt.xlabel('Epoch')\n",
        "plt.legend(['Train', 'Val'], loc='lower right')\n",
        "plt.grid()\n",
        "plt.show()"
      ],
      "execution_count": 26,
      "outputs": [
        {
          "output_type": "display_data",
          "data": {
            "image/png": "[encoded data removed]",
            "text/plain": [
              "<Figure size 432x288 with 1 Axes>"
            ]
          },
          "metadata": {
            "tags": [],
            "needs_background": "light"
          }
        }
      ]
    },
    {
      "cell_type": "markdown",
      "metadata": {
        "id": "RWqvRiQxKoxB"
      },
      "source": [
        "We see that improvements in the training set seem to match up with improvements with the validation set, so it doesn't seem like overfitting is a very large problem."
      ]
    }
  ]
}