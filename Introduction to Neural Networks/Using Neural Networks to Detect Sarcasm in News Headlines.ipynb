{
 "cells": [
  {
   "cell_type": "markdown",
   "id": "written-modeling",
   "metadata": {},
   "source": [
    "# Using Neural Networks to Detect Sarcasm in News Headlines\n",
    "\n",
    "In this project, I will be building a simple neural network to predict whether a news headline is sarcastic or truthful. The data was pulled from <a href=\"https://www.kaggle.com/rmisra/news-headlines-dataset-for-sarcasm-detection?select=Sarcasm_Headlines_Dataset.json\">this Kaggle dataset</a> from Rishabh Misra.\n",
    "\n",
    "Each record consists of three attributes:\n",
    "\n",
    "- `is_sarcastic`: 1 if the record is sarcastic otherwise 0\n",
    "\n",
    "- `headline`: the headline of the news article\n",
    "\n",
    "- `article_link`: link to the original news article. Useful for collecting supplementary data\n",
    "\n",
    "From Misra:\n",
    "\n",
    "<i>Past studies in Sarcasm Detection mostly make use of Twitter datasets collected using hashtag based supervision but such datasets are noisy in terms of labels and language. Furthermore, many tweets are replies to other tweets and detecting sarcasm in these requires the availability of contextual tweets.</i>\n",
    "\n",
    "<i>To overcome the limitations related to noise in Twitter datasets, this News Headlines dataset for Sarcasm Detection is collected from two news website. TheOnion aims at producing sarcastic versions of current events and we collected all the headlines from News in Brief and News in Photos categories (which are sarcastic). We collect real (and non-sarcastic) news headlines from HuffPost.</i>\n",
    "\n",
    "<i>This new dataset has following advantages over the existing Twitter datasets:</i>\n",
    "\n",
    "<i>Since news headlines are written by professionals in a formal manner, there are no spelling mistakes and informal usage. This reduces the sparsity and also increases the chance of finding pre-trained embeddings.</i>\n",
    "\n",
    "<i>Furthermore, since the sole purpose of TheOnion is to publish sarcastic news, we get high-quality labels with much less noise as compared to Twitter datasets.</i>\n",
    "\n",
    "<i>Unlike tweets which are replies to other tweets, the news headlines we obtained are self-contained. This would help us in teasing apart the real sarcastic elements.</i>\n",
    "\n",
    "We can begin by importing and parsing the JSON data."
   ]
  },
  {
   "cell_type": "markdown",
   "id": "flexible-candle",
   "metadata": {},
   "source": [
    "## Importing and Parsing the Data"
   ]
  },
  {
   "cell_type": "code",
   "execution_count": 2,
   "id": "hispanic-bleeding",
   "metadata": {},
   "outputs": [],
   "source": [
    "import pandas as pd\n",
    "import numpy as np\n",
    "import matplotlib.pyplot as plt\n",
    "import os\n",
    "import json\n",
    "from sklearn.model_selection import train_test_split as tts\n",
    "from sklearn.model_selection import cross_val_score as cvs\n",
    "from sklearn.feature_extraction.text import TfidfVectorizer\n",
    "import keras\n",
    "import tensorflow as tf\n",
    "from keras import models\n",
    "from keras import layers\n",
    "from keras.models import Sequential\n",
    "from keras.layers import Dense\n",
    "from tensorflow.keras.losses import MeanSquaredError as mse\n",
    "import sklearn.metrics\n",
    "from sklearn.metrics import confusion_matrix as cm\n",
    "from sklearn.metrics import precision_score, recall_score"
   ]
  },
  {
   "cell_type": "code",
   "execution_count": 4,
   "id": "twelve-headline",
   "metadata": {},
   "outputs": [],
   "source": [
    "def parse_data(file):\n",
    "    for l in open(file,'r'):\n",
    "        yield json.loads(l)\n",
    "\n",
    "data = list(parse_data('data/Sarcasm_Headlines_Dataset.json'))"
   ]
  },
  {
   "cell_type": "code",
   "execution_count": 26,
   "id": "pleasant-medication",
   "metadata": {},
   "outputs": [],
   "source": [
    "df = pd.DataFrame(data)\n",
    "df.rename(columns={\"article_link\":\"link\"}, inplace=True)"
   ]
  },
  {
   "cell_type": "markdown",
   "id": "harmful-payment",
   "metadata": {},
   "source": [
    "## Exploratory Data Analysis"
   ]
  },
  {
   "cell_type": "code",
   "execution_count": 25,
   "id": "prostate-forestry",
   "metadata": {},
   "outputs": [
    {
     "data": {
      "text/html": [
       "<div>\n",
       "<style scoped>\n",
       "    .dataframe tbody tr th:only-of-type {\n",
       "        vertical-align: middle;\n",
       "    }\n",
       "\n",
       "    .dataframe tbody tr th {\n",
       "        vertical-align: top;\n",
       "    }\n",
       "\n",
       "    .dataframe thead th {\n",
       "        text-align: right;\n",
       "    }\n",
       "</style>\n",
       "<table border=\"1\" class=\"dataframe\">\n",
       "  <thead>\n",
       "    <tr style=\"text-align: right;\">\n",
       "      <th></th>\n",
       "      <th>link</th>\n",
       "      <th>headline</th>\n",
       "      <th>is_sarcastic</th>\n",
       "    </tr>\n",
       "  </thead>\n",
       "  <tbody>\n",
       "    <tr>\n",
       "      <th>0</th>\n",
       "      <td>https://www.huffingtonpost.com/entry/versace-b...</td>\n",
       "      <td>former versace store clerk sues over secret 'b...</td>\n",
       "      <td>0</td>\n",
       "    </tr>\n",
       "    <tr>\n",
       "      <th>1</th>\n",
       "      <td>https://www.huffingtonpost.com/entry/roseanne-...</td>\n",
       "      <td>the 'roseanne' revival catches up to our thorn...</td>\n",
       "      <td>0</td>\n",
       "    </tr>\n",
       "    <tr>\n",
       "      <th>2</th>\n",
       "      <td>https://local.theonion.com/mom-starting-to-fea...</td>\n",
       "      <td>mom starting to fear son's web series closest ...</td>\n",
       "      <td>1</td>\n",
       "    </tr>\n",
       "    <tr>\n",
       "      <th>3</th>\n",
       "      <td>https://politics.theonion.com/boehner-just-wan...</td>\n",
       "      <td>boehner just wants wife to listen, not come up...</td>\n",
       "      <td>1</td>\n",
       "    </tr>\n",
       "    <tr>\n",
       "      <th>4</th>\n",
       "      <td>https://www.huffingtonpost.com/entry/jk-rowlin...</td>\n",
       "      <td>j.k. rowling wishes snape happy birthday in th...</td>\n",
       "      <td>0</td>\n",
       "    </tr>\n",
       "  </tbody>\n",
       "</table>\n",
       "</div>"
      ],
      "text/plain": [
       "                                                link  \\\n",
       "0  https://www.huffingtonpost.com/entry/versace-b...   \n",
       "1  https://www.huffingtonpost.com/entry/roseanne-...   \n",
       "2  https://local.theonion.com/mom-starting-to-fea...   \n",
       "3  https://politics.theonion.com/boehner-just-wan...   \n",
       "4  https://www.huffingtonpost.com/entry/jk-rowlin...   \n",
       "\n",
       "                                            headline  is_sarcastic  \n",
       "0  former versace store clerk sues over secret 'b...             0  \n",
       "1  the 'roseanne' revival catches up to our thorn...             0  \n",
       "2  mom starting to fear son's web series closest ...             1  \n",
       "3  boehner just wants wife to listen, not come up...             1  \n",
       "4  j.k. rowling wishes snape happy birthday in th...             0  "
      ]
     },
     "execution_count": 25,
     "metadata": {},
     "output_type": "execute_result"
    }
   ],
   "source": [
    "df.head()"
   ]
  },
  {
   "cell_type": "code",
   "execution_count": 27,
   "id": "funny-westminster",
   "metadata": {},
   "outputs": [
    {
     "data": {
      "text/html": [
       "<div>\n",
       "<style scoped>\n",
       "    .dataframe tbody tr th:only-of-type {\n",
       "        vertical-align: middle;\n",
       "    }\n",
       "\n",
       "    .dataframe tbody tr th {\n",
       "        vertical-align: top;\n",
       "    }\n",
       "\n",
       "    .dataframe thead th {\n",
       "        text-align: right;\n",
       "    }\n",
       "</style>\n",
       "<table border=\"1\" class=\"dataframe\">\n",
       "  <thead>\n",
       "    <tr style=\"text-align: right;\">\n",
       "      <th></th>\n",
       "      <th>link</th>\n",
       "      <th>headline</th>\n",
       "      <th>is_sarcastic</th>\n",
       "    </tr>\n",
       "  </thead>\n",
       "  <tbody>\n",
       "    <tr>\n",
       "      <th>26704</th>\n",
       "      <td>https://www.huffingtonpost.com/entry/american-...</td>\n",
       "      <td>american politics in moral free-fall</td>\n",
       "      <td>0</td>\n",
       "    </tr>\n",
       "    <tr>\n",
       "      <th>26705</th>\n",
       "      <td>https://www.huffingtonpost.com/entry/americas-...</td>\n",
       "      <td>america's best 20 hikes</td>\n",
       "      <td>0</td>\n",
       "    </tr>\n",
       "    <tr>\n",
       "      <th>26706</th>\n",
       "      <td>https://www.huffingtonpost.com/entry/reparatio...</td>\n",
       "      <td>reparations and obama</td>\n",
       "      <td>0</td>\n",
       "    </tr>\n",
       "    <tr>\n",
       "      <th>26707</th>\n",
       "      <td>https://www.huffingtonpost.com/entry/israeli-b...</td>\n",
       "      <td>israeli ban targeting boycott supporters raise...</td>\n",
       "      <td>0</td>\n",
       "    </tr>\n",
       "    <tr>\n",
       "      <th>26708</th>\n",
       "      <td>https://www.huffingtonpost.com/entry/gourmet-g...</td>\n",
       "      <td>gourmet gifts for the foodie 2014</td>\n",
       "      <td>0</td>\n",
       "    </tr>\n",
       "  </tbody>\n",
       "</table>\n",
       "</div>"
      ],
      "text/plain": [
       "                                                    link  \\\n",
       "26704  https://www.huffingtonpost.com/entry/american-...   \n",
       "26705  https://www.huffingtonpost.com/entry/americas-...   \n",
       "26706  https://www.huffingtonpost.com/entry/reparatio...   \n",
       "26707  https://www.huffingtonpost.com/entry/israeli-b...   \n",
       "26708  https://www.huffingtonpost.com/entry/gourmet-g...   \n",
       "\n",
       "                                                headline  is_sarcastic  \n",
       "26704               american politics in moral free-fall             0  \n",
       "26705                            america's best 20 hikes             0  \n",
       "26706                              reparations and obama             0  \n",
       "26707  israeli ban targeting boycott supporters raise...             0  \n",
       "26708                  gourmet gifts for the foodie 2014             0  "
      ]
     },
     "execution_count": 27,
     "metadata": {},
     "output_type": "execute_result"
    }
   ],
   "source": [
    "df.tail()"
   ]
  },
  {
   "cell_type": "code",
   "execution_count": 30,
   "id": "stretch-floor",
   "metadata": {},
   "outputs": [
    {
     "name": "stdout",
     "output_type": "stream",
     "text": [
      "<class 'pandas.core.frame.DataFrame'>\n",
      "RangeIndex: 26709 entries, 0 to 26708\n",
      "Data columns (total 3 columns):\n",
      " #   Column        Non-Null Count  Dtype \n",
      "---  ------        --------------  ----- \n",
      " 0   link          26709 non-null  object\n",
      " 1   headline      26709 non-null  object\n",
      " 2   is_sarcastic  26709 non-null  int64 \n",
      "dtypes: int64(1), object(2)\n",
      "memory usage: 626.1+ KB\n"
     ]
    }
   ],
   "source": [
    "df.info()"
   ]
  },
  {
   "cell_type": "markdown",
   "id": "selected-colony",
   "metadata": {},
   "source": [
    "Dataset appears to have 26,709 rows and 3 (non-null) columns. Let's see if there are an equal number of sarcastic and non-sarcastic tweets, as having an overrepresentation in one or the other could lead to a poorer model."
   ]
  },
  {
   "cell_type": "code",
   "execution_count": 41,
   "id": "enclosed-chester",
   "metadata": {},
   "outputs": [
    {
     "data": {
      "text/plain": [
       "<AxesSubplot:xlabel='is_sarcastic', ylabel='count'>"
      ]
     },
     "execution_count": 41,
     "metadata": {},
     "output_type": "execute_result"
    },
    {
     "data": {
      "image/png": "[encoded data removed]",
      "text/plain": [
       "<Figure size 432x288 with 1 Axes>"
      ]
     },
     "metadata": {},
     "output_type": "display_data"
    }
   ],
   "source": [
    "sns.set_style(\"dark\")\n",
    "\n",
    "sns.countplot(x=\"is_sarcastic\", data=df)"
   ]
  },
  {
   "cell_type": "markdown",
   "id": "valid-chance",
   "metadata": {},
   "source": [
    "We see there are slightly more non-sarcastic tweets. We can use `.value_counts()` to get a closer approximation:"
   ]
  },
  {
   "cell_type": "code",
   "execution_count": 42,
   "id": "limited-cartoon",
   "metadata": {},
   "outputs": [
    {
     "data": {
      "text/plain": [
       "0    14985\n",
       "1    11724\n",
       "Name: is_sarcastic, dtype: int64"
      ]
     },
     "execution_count": 42,
     "metadata": {},
     "output_type": "execute_result"
    }
   ],
   "source": [
    "df[\"is_sarcastic\"].value_counts()"
   ]
  },
  {
   "cell_type": "markdown",
   "id": "dirty-topic",
   "metadata": {},
   "source": [
    "## Splitting into Train/Test Sets"
   ]
  },
  {
   "cell_type": "markdown",
   "id": "brilliant-pitch",
   "metadata": {},
   "source": [
    "We will use the `TfidVectorizer` in order to vectorize words from each headline into our `X`."
   ]
  },
  {
   "cell_type": "code",
   "execution_count": 11,
   "id": "included-verification",
   "metadata": {},
   "outputs": [],
   "source": [
    "#creating the X variable\n",
    "vectorizer = TfidfVectorizer(max_features=50, use_idf=False)\n",
    "headlines = [i['headline'] for i in data]\n",
    "X = vectorizer.fit_transform(headlines).toarray()\n",
    "\n",
    "#Creating our y variable\n",
    "y = np.ravel([i['is_sarcastic'] for i in data])\n",
    "\n",
    "#Creating a train and test split\n",
    "X_train, X_test, y_train, y_test = tts(X, y, test_size = 0.2, random_state = 1)"
   ]
  },
  {
   "cell_type": "markdown",
   "id": "composite-domestic",
   "metadata": {},
   "source": [
    "## Building the Neural Network"
   ]
  },
  {
   "cell_type": "markdown",
   "id": "meaningful-nancy",
   "metadata": {},
   "source": [
    "We will use Keras `Sequential()` in order to the build the neural network. I'll choose to add 3 hidden layers with the softmax activiation function, and then an output layer with the sigmoid activation function."
   ]
  },
  {
   "cell_type": "code",
   "execution_count": 16,
   "id": "recent-literacy",
   "metadata": {},
   "outputs": [],
   "source": [
    "# initialize the model\n",
    "model = Sequential()\n",
    "\n",
    "#Add the input layer\n",
    "model.add(Dense(24, activation = 'softmax', input_shape = (50,)))\n",
    "\n",
    "#Add first hidden layer\n",
    "model.add(Dense(12, activation = 'softmax'))\n",
    "\n",
    "#Add second hidden layer\n",
    "model.add(Dense(8, activation = 'softmax'))\n",
    "\n",
    "#Add third hidden layer\n",
    "model.add(Dense(4, activation = 'softmax'))\n",
    "\n",
    "#Add output layer\n",
    "model.add(Dense(1, activation='sigmoid'))"
   ]
  },
  {
   "cell_type": "markdown",
   "id": "wrong-beach",
   "metadata": {},
   "source": [
    "We'll then compile the model using a loss function of binary cross-entropy and the `adam` optimizer. We'll fit the model with 10 epochs and a batch size of 200."
   ]
  },
  {
   "cell_type": "code",
   "execution_count": 22,
   "id": "laden-rider",
   "metadata": {},
   "outputs": [
    {
     "name": "stdout",
     "output_type": "stream",
     "text": [
      "Epoch 1/10\n",
      "107/107 [==============================] - 1s 778us/step - loss: 0.6911 - accuracy: 0.5254 - mse: 0.2490\n",
      "Epoch 2/10\n",
      "107/107 [==============================] - 0s 778us/step - loss: 0.6858 - accuracy: 0.5612 - mse: 0.2463\n",
      "Epoch 3/10\n",
      "107/107 [==============================] - 0s 829us/step - loss: 0.6874 - accuracy: 0.5535 - mse: 0.2471\n",
      "Epoch 4/10\n",
      "107/107 [==============================] - 0s 766us/step - loss: 0.6851 - accuracy: 0.5629 - mse: 0.2460\n",
      "Epoch 5/10\n",
      "107/107 [==============================] - 0s 774us/step - loss: 0.6867 - accuracy: 0.5548 - mse: 0.2468\n",
      "Epoch 6/10\n",
      "107/107 [==============================] - 0s 779us/step - loss: 0.6823 - accuracy: 0.5664 - mse: 0.2446\n",
      "Epoch 7/10\n",
      "107/107 [==============================] - 0s 795us/step - loss: 0.6786 - accuracy: 0.5547 - mse: 0.2428\n",
      "Epoch 8/10\n",
      "107/107 [==============================] - 0s 775us/step - loss: 0.6570 - accuracy: 0.5796 - mse: 0.2322\n",
      "Epoch 9/10\n",
      "107/107 [==============================] - 0s 784us/step - loss: 0.6174 - accuracy: 0.7161 - mse: 0.2129\n",
      "Epoch 10/10\n",
      "107/107 [==============================] - 0s 780us/step - loss: 0.5843 - accuracy: 0.7173 - mse: 0.1977\n"
     ]
    },
    {
     "data": {
      "text/plain": [
       "<tensorflow.python.keras.callbacks.History at 0x152e89100>"
      ]
     },
     "execution_count": 22,
     "metadata": {},
     "output_type": "execute_result"
    }
   ],
   "source": [
    "#compiling the model\n",
    "model.compile(loss = 'binary_crossentropy', \n",
    "              optimizer = 'adam',\n",
    "              metrics = ['accuracy', 'mse'])\n",
    "\n",
    "#fit the model\n",
    "model.fit(X_train, y_train, epochs = 10,\n",
    "          batch_size = 200, verbose = 1)"
   ]
  },
  {
   "cell_type": "markdown",
   "id": "coordinate-banks",
   "metadata": {},
   "source": [
    "## Testing the Model Against the Test Set"
   ]
  },
  {
   "cell_type": "code",
   "execution_count": 23,
   "id": "naughty-pioneer",
   "metadata": {},
   "outputs": [
    {
     "name": "stdout",
     "output_type": "stream",
     "text": [
      "167/167 [==============================] - 0s 489us/step - loss: 0.5789 - accuracy: 0.7070 - mse: 0.1958\n",
      "[0.5789444446563721, 0.7070385813713074, 0.1958429366350174]\n",
      "Precision: 0.6287281453548166\n",
      "Recall: 0.7918825561312608\n"
     ]
    }
   ],
   "source": [
    "#rounding each prediction of the X_test set\n",
    "y_pred = np.around(model.predict(X_test))\n",
    "\n",
    "#evaluating accuracy, precision, and recall\n",
    "score = model.evaluate(X_test, y_test, verbose=1)\n",
    "print(score)\n",
    "\n",
    "print(f\"Precision: {precision_score(y_test, y_pred)}\")\n",
    "print(f\"Recall: {recall_score(y_test, y_pred)}\")"
   ]
  },
  {
   "cell_type": "markdown",
   "id": "polish-hawaiian",
   "metadata": {},
   "source": [
    "We'll also print out a confusion matrix."
   ]
  },
  {
   "cell_type": "code",
   "execution_count": 24,
   "id": "organized-sword",
   "metadata": {},
   "outputs": [
    {
     "name": "stdout",
     "output_type": "stream",
     "text": [
      "                 is_sarcastic not_sarcastic\n",
      "0   is_sarcastic         1943          1083\n",
      "1  not_sarcastic          482          1834\n"
     ]
    }
   ],
   "source": [
    "matrix = cm(y_test, y_pred)\n",
    "df = pd.DataFrame(columns = ['', 'is_sarcastic', 'not_sarcastic'])\n",
    "df.loc[len(df)] = ['is_sarcastic', matrix[0][0], matrix[0][1]]\n",
    "df.loc[len(df)] = ['not_sarcastic', matrix[1][0], matrix[1][1]]\n",
    "print(df)"
   ]
  }
 ],
 "metadata": {
  "kernelspec": {
   "display_name": "Python 3",
   "language": "python",
   "name": "python3"
  },
  "language_info": {
   "codemirror_mode": {
    "name": "ipython",
    "version": 3
   },
   "file_extension": ".py",
   "mimetype": "text/x-python",
   "name": "python",
   "nbconvert_exporter": "python",
   "pygments_lexer": "ipython3",
   "version": "3.8.5"
  }
 },
 "nbformat": 4,
 "nbformat_minor": 5
}
