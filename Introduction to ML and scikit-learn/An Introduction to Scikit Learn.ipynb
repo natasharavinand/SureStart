{
 "cells": [
  {
   "cell_type": "markdown",
   "metadata": {},
   "source": [
    "# An Introduction to Scikit Learn"
   ]
  },
  {
   "cell_type": "markdown",
   "metadata": {},
   "source": [
    "<i> Adapted from An Introduction to Scikit Learn: The Gold Standard of Python Machine Learning by George Seif </i>\n",
    "    \n",
    "`scikit-learn` provides a wide selection of supervised and unsupervised learning algorithms. `scikit-learn` is built on top of several common data and math Python libraries, including:\n",
    "    \n",
    "    - NumPy\n",
    "    - SciPy\n",
    "    - Matplotlib\n",
    "    - Pandas\n",
    "    \n",
    "And more. `scikit-learn` is focused on Machine Learning, e.g data modelling. It is not concerned with the loading, handling, manipulating, and visualising of data."
   ]
  },
  {
   "cell_type": "markdown",
   "metadata": {},
   "source": [
    "## Building a Decision Tree Classifier"
   ]
  },
  {
   "cell_type": "markdown",
   "metadata": {},
   "source": [
    "In this activity, I will use `scikit-learn` in order to train and test and ML model. I will be examining data from the iris data set and building a Decision Tree classifier."
   ]
  },
  {
   "cell_type": "markdown",
   "metadata": {},
   "source": [
    "We can first move to load our data set in (built into the library). Then we can initialize a decision tree for classification and train the model using the `fit` method. The `fit` method uses an input of X (a numpy array) and returns Y, a corresponding numpy array of outputs."
   ]
  },
  {
   "cell_type": "code",
   "execution_count": 1,
   "metadata": {},
   "outputs": [],
   "source": [
    "from sklearn.datasets import load_iris\n",
    "from sklearn import tree\n",
    "\n",
    "# load dataset from the sklearn library\n",
    "iris = load_iris()\n",
    "\n",
    "# initialize our decision tree object\n",
    "classification_tree = tree.DecisionTreeClassifier()\n",
    "\n",
    "# train our decision tree\n",
    "classification_tree = classification_tree.fit(iris.data, iris.target)"
   ]
  }
 ],
 "metadata": {
  "kernelspec": {
   "display_name": "Python 3",
   "language": "python",
   "name": "python3"
  },
  "language_info": {
   "codemirror_mode": {
    "name": "ipython",
    "version": 3
   },
   "file_extension": ".py",
   "mimetype": "text/x-python",
   "name": "python",
   "nbconvert_exporter": "python",
   "pygments_lexer": "ipython3",
   "version": "3.7.6"
  }
 },
 "nbformat": 4,
 "nbformat_minor": 4
}
