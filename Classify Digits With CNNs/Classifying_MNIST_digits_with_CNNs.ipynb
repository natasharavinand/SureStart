{
  "nbformat": 4,
  "nbformat_minor": 0,
  "metadata": {
    "colab": {
      "name": "Classifying MNIST digits with CNNs.ipynb",
      "provenance": [],
      "collapsed_sections": []
    },
    "kernelspec": {
      "name": "python3",
      "display_name": "Python 3"
    },
    "accelerator": "GPU"
  },
  "cells": [
    {
      "cell_type": "markdown",
      "metadata": {
        "id": "iUFa0dsIlEGA"
      },
      "source": [
        "# Using Convolutional Neural Networks (CNNs) to Classify Digits"
      ]
    },
    {
      "cell_type": "markdown",
      "metadata": {
        "id": "L1t-aW5RlHoM"
      },
      "source": [
        "## CNN Background\n",
        "\n",
        "Convolutional neural networks (CNNs) are kinds of neural networks that are useful in computer vision.\n",
        "\n",
        "There are four main operations in a CNN (adapted from <i><a href=\"https://ujjwalkarn.me/2016/08/11/intuitive-explanation-convnets/\">An Intuitive Explanation of Convolutional Neural Networks</a></i>):\n",
        "\n",
        "- Convolution\n",
        "    - Convolution preserves spatial data between pixels and learns image features by \"convolving\" filters across an image. We slide the filter over the original image by our stride and compute an element wise multiplication. We add the output to the corresponding index of the feature map. In this sense, filters act as \"feature detectors\" in images.\n",
        "    - Different filters can produce different feature maps and help in operations such as edge detection, blur, and sharpening.\n",
        "    - In practice, the CNN learns the values of filters during the training process. However, a human still much specify parameters such as the # of filters, filter size, etc. Generally, the more filters we have, the more image features we can extract and the better the system becomes when classifying unseen images.\n",
        "    - The size of a feature map is controlled by depth (# of filters; this creates a \"volume\"), stride (# of pixels we slide the filter matrix over the input matrix), and zero-padding (padding the input matrix with zeroes on the border so we can apply the filter to bordering elements).\n",
        "    \n",
        "- Non-linearity\n",
        "    - After every convolution operation, a non-linear operation (such as ReLU) is applied. This introduces non-linearity and helps our model become more complex.\n",
        "    \n",
        "- Pooling\n",
        "    - Pooling, or downsampling, reduces the dimensionality of the feature map but retains important information. Max pooling takes the largest element from the feature map within that window. After pooling, we are left with a reduced spatial size of the input representation.\n",
        "    \n",
        "- Classification \n",
        "    - A fully-connected layer acts as a classifier. The output from the previous convolution and pooling layers represent high-level features of the input image. We use a fully-connecting layer (every neuron in the previous layer is connected to every neuron on the left layer) to use these features for classifying the input image into various classes based on the training dataset. Then backpropogation is used to minimize the output error.\n",
        "\n",
        "To summarize:\n",
        "\n",
        "1) We initialize all filters and parameters / weights with random values\n",
        "\n",
        "2) The network takes a training image as input, goes through the forward propagation step (convolution, ReLU and pooling operations along with forward propagation in the Fully Connected layer) and finds the output probabilities for each class. Since weights are randomly assigned for the first training example, output probabilities are also random.\n",
        "\n",
        "3) Calculate the total error at the output layer\n",
        "\n",
        "4) Use Backpropagation to calculate the gradients of the error with respect to all weights in the network and use gradient descent to update all filter values / weights and parameter values to minimize the output error. The weights are adjusted in proportion to their contribution to the total error. Parameters like number of filters, filter sizes, architecture of the network etc. have all been fixed before Step 1 and do not change during training process – only the values of the filter matrix and connection weights get updated.\n",
        "\n",
        "5) Repeat steps 2-4 with all images in the training set.\n",
        "\n",
        "<hr>"
      ]
    },
    {
      "cell_type": "markdown",
      "metadata": {
        "id": "wDPmWigLl_yt"
      },
      "source": [
        "## Classifying Digits with CNNs\n",
        "\n",
        "I will be using the famous <a href=\"https://www.kaggle.com/c/digit-recognizer\">MNIST dataset</a> to develop a CNN to classifying digits. According to its Kaggle page:\n",
        "\n",
        "<i> MNIST (\"Modified National Institute of Standards and Technology\") is the de facto “hello world” dataset of computer vision. Since its release in 1999, this classic dataset of handwritten images has served as the basis for benchmarking classification algorithms. As new machine learning techniques emerge, MNIST remains a reliable resource for researchers and learners alike. </i>\n",
        "\n",
        "My model below is based off of Jason Brownley's model in [*How to Develop a CNN for MNIST Handwritten Digit Classification*](https://machinelearningmastery.com/how-to-develop-a-convolutional-neural-network-from-scratch-for-mnist-handwritten-digit-classification/).\n"
      ]
    },
    {
      "cell_type": "markdown",
      "metadata": {
        "id": "p9qIbEvPmT70"
      },
      "source": [
        "## Loading in Libraries"
      ]
    },
    {
      "cell_type": "code",
      "metadata": {
        "id": "8YNAnjTvPcg0"
      },
      "source": [
        "from numpy import mean\n",
        "from numpy import std\n",
        "from matplotlib import pyplot\n",
        "from sklearn.model_selection import KFold\n",
        "from keras.datasets import mnist\n",
        "from keras.utils import to_categorical\n",
        "from keras.models import Sequential\n",
        "from keras.layers import Conv2D\n",
        "from keras.layers import MaxPooling2D\n",
        "from keras.layers import Dense\n",
        "from keras.layers import Flatten\n",
        "from keras.optimizers import SGD"
      ],
      "execution_count": 12,
      "outputs": []
    },
    {
      "cell_type": "markdown",
      "metadata": {
        "id": "VGSgK3YZmXWp"
      },
      "source": [
        "## Developing Loading Function\n",
        "\n",
        "We already know that the MNIST dataset has square images of 28 x 28 pixels, and that the images are greyscale. So, we only have to reshape the data as well as one hot encode target values in the Y set."
      ]
    },
    {
      "cell_type": "code",
      "metadata": {
        "id": "Kc67776FNo_E"
      },
      "source": [
        "def load_dataset():\n",
        "\t# load dataset\n",
        "\t(trainX, trainY), (testX, testY) = mnist.load_data()\n",
        " \n",
        "\t# reshape dataset to have a single canal (grayscale images have 1, RGB have 3)\n",
        "\ttrainX = trainX.reshape((trainX.shape[0], 28, 28, 1))\n",
        "\ttestX = testX.reshape((testX.shape[0], 28, 28, 1))\n",
        " \n",
        "\t# one hot encode target values\n",
        "\ttrainY = to_categorical(trainY)\n",
        "\ttestY = to_categorical(testY)\n",
        "\treturn trainX, trainY, testX, testY"
      ],
      "execution_count": 13,
      "outputs": []
    },
    {
      "cell_type": "markdown",
      "metadata": {
        "id": "c6lVxJCsm0ip"
      },
      "source": [
        "## Preprocessing Pixels\n",
        "\n",
        "Pixel values for each image are integers between black and white, or 0 and 255. We normalize our values to 0-1 by dividing each value by 255. This improves model performance."
      ]
    },
    {
      "cell_type": "code",
      "metadata": {
        "id": "7IDGfIuVN4F1"
      },
      "source": [
        "def prep_pixels(train, test):\n",
        "\t# convert from integers to floats\n",
        "\ttrain_norm = train.astype('float32')\n",
        "\ttest_norm = test.astype('float32')\n",
        "\t# normalize to range 0-1\n",
        "\ttrain_norm = train_norm / 255.0\n",
        "\ttest_norm = test_norm / 255.0\n",
        "\t# return normalized images\n",
        "\treturn train_norm, test_norm"
      ],
      "execution_count": 14,
      "outputs": []
    },
    {
      "cell_type": "markdown",
      "metadata": {
        "id": "FwKXFYtWnDVi"
      },
      "source": [
        "## Define Model\n",
        "\n",
        "This is where we can define and easily modify our model architecture. We use the Keras `Sequential()` function to define the CNN. We use an input shape of (28, 28, 1) and a filter size of 3x3 along with 40 filters. We will then pool, flatten our values, and enter the fully connected layers, where we will have a dense layer with 100 nodes outputting into an output layer with 10 nodes. We will then compile the model with `adam` and a loss of categorical cross entropy.We will use the `ReLU` activation function, but use `softmax` for the output layer."
      ]
    },
    {
      "cell_type": "code",
      "metadata": {
        "id": "r2-6rcFSN_Cl"
      },
      "source": [
        "def define_model():\n",
        "\tmodel = Sequential()\n",
        "\tmodel.add(Conv2D(40, (3, 3), activation='relu', kernel_initializer='he_uniform', input_shape=(28, 28, 1)))\n",
        "\tmodel.add(MaxPooling2D((2, 2)))\n",
        "\tmodel.add(Flatten())\n",
        "\tmodel.add(Dense(100, activation='relu', kernel_initializer='he_uniform'))\n",
        "\tmodel.add(Dense(10, activation='softmax'))\n",
        "\t# compile model\n",
        "\tmodel.compile(optimizer='adam', loss='categorical_crossentropy', metrics=['accuracy'])\n",
        "\treturn model"
      ],
      "execution_count": 15,
      "outputs": []
    },
    {
      "cell_type": "markdown",
      "metadata": {
        "id": "Kt-2GagAn8lm"
      },
      "source": [
        "## Evaluate the Model Using k-fold Cross Validation\n",
        "\n",
        "After we define the model, we should evaluate it. We can use the method of k-fold cross validation with a k = 5. Thus, each test set will be 20% of the training dataset. We will use 10 epochs and a batch size of 50. In each \"fold\", we will develop a new model using a different subset of the training data and test data. We'll save the scores and histories to return and see which model performed best, as well as the general accuracy of the model."
      ]
    },
    {
      "cell_type": "code",
      "metadata": {
        "id": "IbhMSMwMODzN"
      },
      "source": [
        "def evaluate_model(dataX, dataY, n_folds=5):\n",
        "\tscores, histories = list(), list()\n",
        "\t# prepare cross validation\n",
        "\tkfold = KFold(n_folds, shuffle=True, random_state=1)\n",
        "\t# enumerate splits\n",
        "\tfor train_ix, test_ix in kfold.split(dataX):\n",
        "\t\t# define model\n",
        "\t\tmodel = define_model()\n",
        "\t\t# select rows for train and test\n",
        "\t\ttrainX, trainY, testX, testY = dataX[train_ix], dataY[train_ix], dataX[test_ix], dataY[test_ix]\n",
        "\t\t# fit model\n",
        "\t\thistory = model.fit(trainX, trainY, epochs=10, batch_size=50, validation_data=(testX, testY), verbose=0)\n",
        "\t\t# evaluate model\n",
        "\t\t_, acc = model.evaluate(testX, testY, verbose=0)\n",
        "\t\tprint('> %.3f' % (acc * 100.0))\n",
        "\t\t# stores scores\n",
        "\t\tscores.append(acc)\n",
        "\t\thistories.append(history)\n",
        "\treturn scores, histories"
      ],
      "execution_count": 16,
      "outputs": []
    },
    {
      "cell_type": "markdown",
      "metadata": {
        "id": "KMSeTD8No0cE"
      },
      "source": [
        "## Displaying Results\n",
        "\n",
        "We can plot diagnostic learning curves to display the results. We need to display two key things:\n",
        "\n",
        "- Diagnostics of the learning behavior of the model during training\n",
        "- Estimation of the model performance\n",
        "\n",
        "We can create a line plot showing model performance on the train and test set during each fold. We can get an idea at whether the model is overfitting or underfitting, if it is.\n",
        "\n",
        "Then, we can create a figure with two subplots to display loss and then accuracy. "
      ]
    },
    {
      "cell_type": "code",
      "metadata": {
        "id": "TBuotLqBO_Hr",
        "colab": {
          "base_uri": "https://localhost:8080/",
          "height": 133
        },
        "outputId": "8895debc-55e9-4839-9aa7-a4f727eedf8c"
      },
      "source": [
        "def summarize_diagnostics(histories):\n",
        "\tfor i in range(len(histories)):\n",
        "\t\t# plot loss\n",
        "\t\tpyplot.subplot(2, 1, 1)\n",
        "\t\tpyplot.title('Cross Entropy Loss')\n",
        "\t\tpyplot.plot(histories[i].history['loss'], color='blue', label='train')\n",
        "\t\tpyplot.plot(histories[i].history['val_loss'], color='orange', label='test')\n",
        "    \n",
        "\t\t# plot accuracy\n",
        "\t\tpyplot.subplot(2, 1, 2)\n",
        "\t\tpyplot.title('Classification Accuracy')\n",
        "\t\tpyplot.plot(histories[i].history['accuracy'], color='blue', label='train')\n",
        "\t\tpyplot.plot(histories[i].history['val_accuracy'], color='orange', label='test')\n",
        "  \n",
        "pyplot.show()"
      ],
      "execution_count": 61,
      "outputs": [
        {
          "output_type": "error",
          "ename": "IndentationError",
          "evalue": "ignored",
          "traceback": [
            "\u001b[0;36m  File \u001b[0;32m\"<ipython-input-61-ab305d6f9fdb>\"\u001b[0;36m, line \u001b[0;32m15\u001b[0m\n\u001b[0;31m    if i == 0:\u001b[0m\n\u001b[0m              ^\u001b[0m\n\u001b[0;31mIndentationError\u001b[0m\u001b[0;31m:\u001b[0m unindent does not match any outer indentation level\n"
          ]
        }
      ]
    },
    {
      "cell_type": "markdown",
      "metadata": {
        "id": "1ybE5vaeplM9"
      },
      "source": [
        "## Summarizing Model Performance\n",
        "\n",
        "We can summarize the accuracy in general of the model by printing out the mean and standard deviation of the accuracies across folds. We can also visualize the distribution of scores using a box and whisker plot."
      ]
    },
    {
      "cell_type": "code",
      "metadata": {
        "id": "f8jo4WXrPPBB"
      },
      "source": [
        "def summarize_performance(scores):\n",
        "\t# print summary\n",
        "\tprint('Accuracy: mean=%.3f std=%.3f, n=%d' % (mean(scores)*100, std(scores)*100, len(scores)))\n",
        "\t# box and whisker plots of results\n",
        "\tpyplot.boxplot(scores)\n",
        "\tpyplot.show()"
      ],
      "execution_count": 18,
      "outputs": []
    },
    {
      "cell_type": "markdown",
      "metadata": {
        "id": "_Cwd0Npyp1gh"
      },
      "source": [
        "## Running the Functions\n",
        "\n",
        "We can define a test harness below for loading in the data, preprocessing, evaluation, plotting learning curves, and summarizing estimated performance."
      ]
    },
    {
      "cell_type": "code",
      "metadata": {
        "id": "rO6WJkDBPQT2"
      },
      "source": [
        "# run the test harness for evaluating a model\n",
        "def run_test_harness():\n",
        "\t# load dataset\n",
        "\ttrainX, trainY, testX, testY = load_dataset()\n",
        "\t# prepare pixel data\n",
        "\ttrainX, testX = prep_pixels(trainX, testX)\n",
        "\t# evaluate model\n",
        "\tscores, histories = evaluate_model(trainX, trainY)\n",
        "\t# learning curves\n",
        "\tsummarize_diagnostics(histories)\n",
        "\t# summarize estimated performance\n",
        "\tsummarize_performance(scores)"
      ],
      "execution_count": 19,
      "outputs": []
    },
    {
      "cell_type": "code",
      "metadata": {
        "colab": {
          "base_uri": "https://localhost:8080/",
          "height": 478
        },
        "id": "TwBm9QO1QImn",
        "outputId": "316246e5-79e9-428e-e237-ac655a5e7265"
      },
      "source": [
        "# entry point, run the test harness\n",
        "run_test_harness()"
      ],
      "execution_count": 46,
      "outputs": [
        {
          "output_type": "stream",
          "text": [
            "> 98.383\n",
            "> 98.408\n",
            "> 98.450\n",
            "> 98.625\n",
            "> 98.667\n",
            "Accuracy: mean=98.507 std=0.116, n=5\n"
          ],
          "name": "stdout"
        },
        {
          "output_type": "stream",
          "text": [
            "/usr/local/lib/python3.6/dist-packages/ipykernel_launcher.py:4: MatplotlibDeprecationWarning: Adding an axes using the same arguments as a previous axes currently reuses the earlier instance.  In a future version, a new instance will always be created and returned.  Meanwhile, this warning can be suppressed, and the future behavior ensured, by passing a unique label to each axes instance.\n",
            "  after removing the cwd from sys.path.\n",
            "/usr/local/lib/python3.6/dist-packages/ipykernel_launcher.py:10: MatplotlibDeprecationWarning: Adding an axes using the same arguments as a previous axes currently reuses the earlier instance.  In a future version, a new instance will always be created and returned.  Meanwhile, this warning can be suppressed, and the future behavior ensured, by passing a unique label to each axes instance.\n",
            "  # Remove the CWD from sys.path while we load stuff.\n"
          ],
          "name": "stderr"
        },
        {
          "output_type": "display_data",
          "data": {
            "image/png": "[encoded data removed]",
            "text/plain": [
              "<Figure size 432x288 with 2 Axes>"
            ]
          },
          "metadata": {
            "tags": [],
            "needs_background": "light"
          }
        }
      ]
    },
    {
      "cell_type": "markdown",
      "metadata": {
        "id": "7idQn2Zxtq4m"
      },
      "source": [
        "We can see that the model tends to achieve a good fit, as the train and test curves converge. We also see that the mean model performance was approx 98.5%."
      ]
    },
    {
      "cell_type": "markdown",
      "metadata": {
        "id": "jLTzkr52t9pk"
      },
      "source": [
        "## Approaches to Improving the Model\n",
        "\n",
        "The first, and often biggest, thing we can do to improve a model is change the learning rate. We can also accelerate the learning of the model by using batch normalization. \n",
        "\n",
        "Batch normalization can be used after the convolutional and fully connected layers. It changes the distribution of the output of the layer by standardizing the outputs and can speed up learning.\n",
        "\n",
        "Another method is increasing model depth. Two common approaches involve:\n",
        "\n",
        "- Changing capacity of the feature extraction portion of the model\n",
        "  - This is often more influential. We can add more convolutional and pooling layers we the same sized filter, while increasing the number of filters. Each layer will be followed by another max pooling layer.\n",
        "- Changing capacity or function of the classifier part of the model"
      ]
    }
  ]
}